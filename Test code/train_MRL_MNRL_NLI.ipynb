{
 "cells": [
  {
   "cell_type": "code",
   "execution_count": 2,
   "metadata": {},
   "outputs": [
    {
     "name": "stderr",
     "output_type": "stream",
     "text": [
      "Some weights of RobertaModel were not initialized from the model checkpoint at klue/roberta-base and are newly initialized: ['roberta.pooler.dense.bias', 'roberta.pooler.dense.weight']\n",
      "You should probably TRAIN this model on a down-stream task to be able to use it for predictions and inference.\n"
     ]
    },
    {
     "name": "stdout",
     "output_type": "stream",
     "text": [
      "2024-10-17 14:16:30 - Use pytorch device_name: cuda\n",
      "2024-10-17 14:16:30 - Read ConNLI train/ConSTS test dataset\n",
      "2024-10-17 14:16:30 - Warmup-steps: 161\n"
     ]
    },
    {
     "data": {
      "application/vnd.jupyter.widget-view+json": {
       "model_id": "3e01167694d24852b1b2cf82f5a69dd7",
       "version_major": 2,
       "version_minor": 0
      },
      "text/plain": [
       "  0%|          | 0/1610 [00:00<?, ?it/s]"
      ]
     },
     "metadata": {},
     "output_type": "display_data"
    },
    {
     "name": "stdout",
     "output_type": "stream",
     "text": [
      "2024-10-17 14:17:10 - Saving model checkpoint to /home/choi/Git/RAG_con_doc/langchain/FT_model/MRL_MNRL_NLI-2024-10-17_14-16-30/checkpoint/checkpoint-161\n",
      "2024-10-17 14:17:10 - Save model to /home/choi/Git/RAG_con_doc/langchain/FT_model/MRL_MNRL_NLI-2024-10-17_14-16-30/checkpoint/checkpoint-161\n"
     ]
    },
    {
     "data": {
      "application/vnd.jupyter.widget-view+json": {
       "model_id": "63479c1db71a42c5ae45993b9a80dd69",
       "version_major": 2,
       "version_minor": 0
      },
      "text/plain": [
       "Computing widget examples:   0%|          | 0/1 [00:00<?, ?example/s]"
      ]
     },
     "metadata": {},
     "output_type": "display_data"
    },
    {
     "name": "stdout",
     "output_type": "stream",
     "text": [
      "2024-10-17 14:17:11 - EmbeddingSimilarityEvaluator: Evaluating the model on the sts-dev dataset after epoch 1.0:\n",
      "2024-10-17 14:17:11 - Cosine-Similarity :\tPearson: nan\tSpearman: nan\n",
      "2024-10-17 14:17:11 - Manhattan-Distance:\tPearson: nan\tSpearman: nan\n",
      "2024-10-17 14:17:11 - Euclidean-Distance:\tPearson: nan\tSpearman: nan\n",
      "2024-10-17 14:17:11 - Dot-Product-Similarity:\tPearson: nan\tSpearman: nan\n",
      "2024-10-17 14:17:11 - Save model to /home/choi/Git/RAG_con_doc/langchain/FT_model/MRL_MNRL_NLI-2024-10-17_14-16-30\n"
     ]
    },
    {
     "name": "stderr",
     "output_type": "stream",
     "text": [
      "/home/choi/anaconda3/envs/RAG_langchain/lib/python3.10/site-packages/sentence_transformers/evaluation/EmbeddingSimilarityEvaluator.py:190: ConstantInputWarning: An input array is constant; the correlation coefficient is not defined.\n",
      "  eval_pearson_cosine, _ = pearsonr(labels, cosine_scores)\n",
      "/home/choi/anaconda3/envs/RAG_langchain/lib/python3.10/site-packages/sentence_transformers/evaluation/EmbeddingSimilarityEvaluator.py:191: ConstantInputWarning: An input array is constant; the correlation coefficient is not defined.\n",
      "  eval_spearman_cosine, _ = spearmanr(labels, cosine_scores)\n",
      "/home/choi/anaconda3/envs/RAG_langchain/lib/python3.10/site-packages/sentence_transformers/evaluation/EmbeddingSimilarityEvaluator.py:193: ConstantInputWarning: An input array is constant; the correlation coefficient is not defined.\n",
      "  eval_pearson_manhattan, _ = pearsonr(labels, manhattan_distances)\n",
      "/home/choi/anaconda3/envs/RAG_langchain/lib/python3.10/site-packages/sentence_transformers/evaluation/EmbeddingSimilarityEvaluator.py:194: ConstantInputWarning: An input array is constant; the correlation coefficient is not defined.\n",
      "  eval_spearman_manhattan, _ = spearmanr(labels, manhattan_distances)\n",
      "/home/choi/anaconda3/envs/RAG_langchain/lib/python3.10/site-packages/sentence_transformers/evaluation/EmbeddingSimilarityEvaluator.py:196: ConstantInputWarning: An input array is constant; the correlation coefficient is not defined.\n",
      "  eval_pearson_euclidean, _ = pearsonr(labels, euclidean_distances)\n",
      "/home/choi/anaconda3/envs/RAG_langchain/lib/python3.10/site-packages/sentence_transformers/evaluation/EmbeddingSimilarityEvaluator.py:197: ConstantInputWarning: An input array is constant; the correlation coefficient is not defined.\n",
      "  eval_spearman_euclidean, _ = spearmanr(labels, euclidean_distances)\n",
      "/home/choi/anaconda3/envs/RAG_langchain/lib/python3.10/site-packages/sentence_transformers/evaluation/EmbeddingSimilarityEvaluator.py:199: ConstantInputWarning: An input array is constant; the correlation coefficient is not defined.\n",
      "  eval_pearson_dot, _ = pearsonr(labels, dot_products)\n",
      "/home/choi/anaconda3/envs/RAG_langchain/lib/python3.10/site-packages/sentence_transformers/evaluation/EmbeddingSimilarityEvaluator.py:200: ConstantInputWarning: An input array is constant; the correlation coefficient is not defined.\n",
      "  eval_spearman_dot, _ = spearmanr(labels, dot_products)\n"
     ]
    },
    {
     "name": "stdout",
     "output_type": "stream",
     "text": [
      "2024-10-17 14:17:50 - Saving model checkpoint to /home/choi/Git/RAG_con_doc/langchain/FT_model/MRL_MNRL_NLI-2024-10-17_14-16-30/checkpoint/checkpoint-322\n",
      "2024-10-17 14:17:50 - Save model to /home/choi/Git/RAG_con_doc/langchain/FT_model/MRL_MNRL_NLI-2024-10-17_14-16-30/checkpoint/checkpoint-322\n",
      "2024-10-17 14:17:51 - EmbeddingSimilarityEvaluator: Evaluating the model on the sts-dev dataset after epoch 2.0:\n",
      "2024-10-17 14:17:51 - Cosine-Similarity :\tPearson: nan\tSpearman: nan\n",
      "2024-10-17 14:17:51 - Manhattan-Distance:\tPearson: nan\tSpearman: nan\n",
      "2024-10-17 14:17:51 - Euclidean-Distance:\tPearson: nan\tSpearman: nan\n",
      "2024-10-17 14:17:51 - Dot-Product-Similarity:\tPearson: nan\tSpearman: nan\n"
     ]
    },
    {
     "name": "stderr",
     "output_type": "stream",
     "text": [
      "/home/choi/anaconda3/envs/RAG_langchain/lib/python3.10/site-packages/sentence_transformers/evaluation/EmbeddingSimilarityEvaluator.py:190: ConstantInputWarning: An input array is constant; the correlation coefficient is not defined.\n",
      "  eval_pearson_cosine, _ = pearsonr(labels, cosine_scores)\n",
      "/home/choi/anaconda3/envs/RAG_langchain/lib/python3.10/site-packages/sentence_transformers/evaluation/EmbeddingSimilarityEvaluator.py:191: ConstantInputWarning: An input array is constant; the correlation coefficient is not defined.\n",
      "  eval_spearman_cosine, _ = spearmanr(labels, cosine_scores)\n",
      "/home/choi/anaconda3/envs/RAG_langchain/lib/python3.10/site-packages/sentence_transformers/evaluation/EmbeddingSimilarityEvaluator.py:193: ConstantInputWarning: An input array is constant; the correlation coefficient is not defined.\n",
      "  eval_pearson_manhattan, _ = pearsonr(labels, manhattan_distances)\n",
      "/home/choi/anaconda3/envs/RAG_langchain/lib/python3.10/site-packages/sentence_transformers/evaluation/EmbeddingSimilarityEvaluator.py:194: ConstantInputWarning: An input array is constant; the correlation coefficient is not defined.\n",
      "  eval_spearman_manhattan, _ = spearmanr(labels, manhattan_distances)\n",
      "/home/choi/anaconda3/envs/RAG_langchain/lib/python3.10/site-packages/sentence_transformers/evaluation/EmbeddingSimilarityEvaluator.py:196: ConstantInputWarning: An input array is constant; the correlation coefficient is not defined.\n",
      "  eval_pearson_euclidean, _ = pearsonr(labels, euclidean_distances)\n",
      "/home/choi/anaconda3/envs/RAG_langchain/lib/python3.10/site-packages/sentence_transformers/evaluation/EmbeddingSimilarityEvaluator.py:197: ConstantInputWarning: An input array is constant; the correlation coefficient is not defined.\n",
      "  eval_spearman_euclidean, _ = spearmanr(labels, euclidean_distances)\n",
      "/home/choi/anaconda3/envs/RAG_langchain/lib/python3.10/site-packages/sentence_transformers/evaluation/EmbeddingSimilarityEvaluator.py:199: ConstantInputWarning: An input array is constant; the correlation coefficient is not defined.\n",
      "  eval_pearson_dot, _ = pearsonr(labels, dot_products)\n",
      "/home/choi/anaconda3/envs/RAG_langchain/lib/python3.10/site-packages/sentence_transformers/evaluation/EmbeddingSimilarityEvaluator.py:200: ConstantInputWarning: An input array is constant; the correlation coefficient is not defined.\n",
      "  eval_spearman_dot, _ = spearmanr(labels, dot_products)\n"
     ]
    },
    {
     "name": "stdout",
     "output_type": "stream",
     "text": [
      "2024-10-17 14:18:30 - Saving model checkpoint to /home/choi/Git/RAG_con_doc/langchain/FT_model/MRL_MNRL_NLI-2024-10-17_14-16-30/checkpoint/checkpoint-483\n",
      "2024-10-17 14:18:30 - Save model to /home/choi/Git/RAG_con_doc/langchain/FT_model/MRL_MNRL_NLI-2024-10-17_14-16-30/checkpoint/checkpoint-483\n",
      "2024-10-17 14:18:31 - EmbeddingSimilarityEvaluator: Evaluating the model on the sts-dev dataset after epoch 3.0:\n",
      "2024-10-17 14:18:31 - Cosine-Similarity :\tPearson: nan\tSpearman: nan\n",
      "2024-10-17 14:18:31 - Manhattan-Distance:\tPearson: nan\tSpearman: nan\n",
      "2024-10-17 14:18:31 - Euclidean-Distance:\tPearson: nan\tSpearman: nan\n",
      "2024-10-17 14:18:31 - Dot-Product-Similarity:\tPearson: nan\tSpearman: nan\n"
     ]
    },
    {
     "name": "stderr",
     "output_type": "stream",
     "text": [
      "/home/choi/anaconda3/envs/RAG_langchain/lib/python3.10/site-packages/sentence_transformers/evaluation/EmbeddingSimilarityEvaluator.py:190: ConstantInputWarning: An input array is constant; the correlation coefficient is not defined.\n",
      "  eval_pearson_cosine, _ = pearsonr(labels, cosine_scores)\n",
      "/home/choi/anaconda3/envs/RAG_langchain/lib/python3.10/site-packages/sentence_transformers/evaluation/EmbeddingSimilarityEvaluator.py:191: ConstantInputWarning: An input array is constant; the correlation coefficient is not defined.\n",
      "  eval_spearman_cosine, _ = spearmanr(labels, cosine_scores)\n",
      "/home/choi/anaconda3/envs/RAG_langchain/lib/python3.10/site-packages/sentence_transformers/evaluation/EmbeddingSimilarityEvaluator.py:193: ConstantInputWarning: An input array is constant; the correlation coefficient is not defined.\n",
      "  eval_pearson_manhattan, _ = pearsonr(labels, manhattan_distances)\n",
      "/home/choi/anaconda3/envs/RAG_langchain/lib/python3.10/site-packages/sentence_transformers/evaluation/EmbeddingSimilarityEvaluator.py:194: ConstantInputWarning: An input array is constant; the correlation coefficient is not defined.\n",
      "  eval_spearman_manhattan, _ = spearmanr(labels, manhattan_distances)\n",
      "/home/choi/anaconda3/envs/RAG_langchain/lib/python3.10/site-packages/sentence_transformers/evaluation/EmbeddingSimilarityEvaluator.py:196: ConstantInputWarning: An input array is constant; the correlation coefficient is not defined.\n",
      "  eval_pearson_euclidean, _ = pearsonr(labels, euclidean_distances)\n",
      "/home/choi/anaconda3/envs/RAG_langchain/lib/python3.10/site-packages/sentence_transformers/evaluation/EmbeddingSimilarityEvaluator.py:197: ConstantInputWarning: An input array is constant; the correlation coefficient is not defined.\n",
      "  eval_spearman_euclidean, _ = spearmanr(labels, euclidean_distances)\n",
      "/home/choi/anaconda3/envs/RAG_langchain/lib/python3.10/site-packages/sentence_transformers/evaluation/EmbeddingSimilarityEvaluator.py:199: ConstantInputWarning: An input array is constant; the correlation coefficient is not defined.\n",
      "  eval_pearson_dot, _ = pearsonr(labels, dot_products)\n",
      "/home/choi/anaconda3/envs/RAG_langchain/lib/python3.10/site-packages/sentence_transformers/evaluation/EmbeddingSimilarityEvaluator.py:200: ConstantInputWarning: An input array is constant; the correlation coefficient is not defined.\n",
      "  eval_spearman_dot, _ = spearmanr(labels, dot_products)\n"
     ]
    },
    {
     "name": "stdout",
     "output_type": "stream",
     "text": [
      "{'loss': 2.2773, 'grad_norm': 5.85750150680542, 'learning_rate': 1.532091097308489e-05, 'epoch': 3.11}\n",
      "2024-10-17 14:19:10 - Saving model checkpoint to /home/choi/Git/RAG_con_doc/langchain/FT_model/MRL_MNRL_NLI-2024-10-17_14-16-30/checkpoint/checkpoint-644\n",
      "2024-10-17 14:19:10 - Save model to /home/choi/Git/RAG_con_doc/langchain/FT_model/MRL_MNRL_NLI-2024-10-17_14-16-30/checkpoint/checkpoint-644\n",
      "2024-10-17 14:19:10 - EmbeddingSimilarityEvaluator: Evaluating the model on the sts-dev dataset after epoch 4.0:\n",
      "2024-10-17 14:19:10 - Cosine-Similarity :\tPearson: nan\tSpearman: nan\n",
      "2024-10-17 14:19:10 - Manhattan-Distance:\tPearson: nan\tSpearman: nan\n",
      "2024-10-17 14:19:10 - Euclidean-Distance:\tPearson: nan\tSpearman: nan\n",
      "2024-10-17 14:19:10 - Dot-Product-Similarity:\tPearson: nan\tSpearman: nan\n"
     ]
    },
    {
     "name": "stderr",
     "output_type": "stream",
     "text": [
      "/home/choi/anaconda3/envs/RAG_langchain/lib/python3.10/site-packages/sentence_transformers/evaluation/EmbeddingSimilarityEvaluator.py:190: ConstantInputWarning: An input array is constant; the correlation coefficient is not defined.\n",
      "  eval_pearson_cosine, _ = pearsonr(labels, cosine_scores)\n",
      "/home/choi/anaconda3/envs/RAG_langchain/lib/python3.10/site-packages/sentence_transformers/evaluation/EmbeddingSimilarityEvaluator.py:191: ConstantInputWarning: An input array is constant; the correlation coefficient is not defined.\n",
      "  eval_spearman_cosine, _ = spearmanr(labels, cosine_scores)\n",
      "/home/choi/anaconda3/envs/RAG_langchain/lib/python3.10/site-packages/sentence_transformers/evaluation/EmbeddingSimilarityEvaluator.py:193: ConstantInputWarning: An input array is constant; the correlation coefficient is not defined.\n",
      "  eval_pearson_manhattan, _ = pearsonr(labels, manhattan_distances)\n",
      "/home/choi/anaconda3/envs/RAG_langchain/lib/python3.10/site-packages/sentence_transformers/evaluation/EmbeddingSimilarityEvaluator.py:194: ConstantInputWarning: An input array is constant; the correlation coefficient is not defined.\n",
      "  eval_spearman_manhattan, _ = spearmanr(labels, manhattan_distances)\n",
      "/home/choi/anaconda3/envs/RAG_langchain/lib/python3.10/site-packages/sentence_transformers/evaluation/EmbeddingSimilarityEvaluator.py:196: ConstantInputWarning: An input array is constant; the correlation coefficient is not defined.\n",
      "  eval_pearson_euclidean, _ = pearsonr(labels, euclidean_distances)\n",
      "/home/choi/anaconda3/envs/RAG_langchain/lib/python3.10/site-packages/sentence_transformers/evaluation/EmbeddingSimilarityEvaluator.py:197: ConstantInputWarning: An input array is constant; the correlation coefficient is not defined.\n",
      "  eval_spearman_euclidean, _ = spearmanr(labels, euclidean_distances)\n",
      "/home/choi/anaconda3/envs/RAG_langchain/lib/python3.10/site-packages/sentence_transformers/evaluation/EmbeddingSimilarityEvaluator.py:199: ConstantInputWarning: An input array is constant; the correlation coefficient is not defined.\n",
      "  eval_pearson_dot, _ = pearsonr(labels, dot_products)\n",
      "/home/choi/anaconda3/envs/RAG_langchain/lib/python3.10/site-packages/sentence_transformers/evaluation/EmbeddingSimilarityEvaluator.py:200: ConstantInputWarning: An input array is constant; the correlation coefficient is not defined.\n",
      "  eval_spearman_dot, _ = spearmanr(labels, dot_products)\n"
     ]
    },
    {
     "name": "stdout",
     "output_type": "stream",
     "text": [
      "2024-10-17 14:19:49 - Saving model checkpoint to /home/choi/Git/RAG_con_doc/langchain/FT_model/MRL_MNRL_NLI-2024-10-17_14-16-30/checkpoint/checkpoint-805\n",
      "2024-10-17 14:19:49 - Save model to /home/choi/Git/RAG_con_doc/langchain/FT_model/MRL_MNRL_NLI-2024-10-17_14-16-30/checkpoint/checkpoint-805\n",
      "2024-10-17 14:19:50 - EmbeddingSimilarityEvaluator: Evaluating the model on the sts-dev dataset after epoch 5.0:\n",
      "2024-10-17 14:19:50 - Cosine-Similarity :\tPearson: nan\tSpearman: nan\n",
      "2024-10-17 14:19:50 - Manhattan-Distance:\tPearson: nan\tSpearman: nan\n",
      "2024-10-17 14:19:50 - Euclidean-Distance:\tPearson: nan\tSpearman: nan\n",
      "2024-10-17 14:19:50 - Dot-Product-Similarity:\tPearson: nan\tSpearman: nan\n"
     ]
    },
    {
     "name": "stderr",
     "output_type": "stream",
     "text": [
      "/home/choi/anaconda3/envs/RAG_langchain/lib/python3.10/site-packages/sentence_transformers/evaluation/EmbeddingSimilarityEvaluator.py:190: ConstantInputWarning: An input array is constant; the correlation coefficient is not defined.\n",
      "  eval_pearson_cosine, _ = pearsonr(labels, cosine_scores)\n",
      "/home/choi/anaconda3/envs/RAG_langchain/lib/python3.10/site-packages/sentence_transformers/evaluation/EmbeddingSimilarityEvaluator.py:191: ConstantInputWarning: An input array is constant; the correlation coefficient is not defined.\n",
      "  eval_spearman_cosine, _ = spearmanr(labels, cosine_scores)\n",
      "/home/choi/anaconda3/envs/RAG_langchain/lib/python3.10/site-packages/sentence_transformers/evaluation/EmbeddingSimilarityEvaluator.py:193: ConstantInputWarning: An input array is constant; the correlation coefficient is not defined.\n",
      "  eval_pearson_manhattan, _ = pearsonr(labels, manhattan_distances)\n",
      "/home/choi/anaconda3/envs/RAG_langchain/lib/python3.10/site-packages/sentence_transformers/evaluation/EmbeddingSimilarityEvaluator.py:194: ConstantInputWarning: An input array is constant; the correlation coefficient is not defined.\n",
      "  eval_spearman_manhattan, _ = spearmanr(labels, manhattan_distances)\n",
      "/home/choi/anaconda3/envs/RAG_langchain/lib/python3.10/site-packages/sentence_transformers/evaluation/EmbeddingSimilarityEvaluator.py:196: ConstantInputWarning: An input array is constant; the correlation coefficient is not defined.\n",
      "  eval_pearson_euclidean, _ = pearsonr(labels, euclidean_distances)\n",
      "/home/choi/anaconda3/envs/RAG_langchain/lib/python3.10/site-packages/sentence_transformers/evaluation/EmbeddingSimilarityEvaluator.py:197: ConstantInputWarning: An input array is constant; the correlation coefficient is not defined.\n",
      "  eval_spearman_euclidean, _ = spearmanr(labels, euclidean_distances)\n",
      "/home/choi/anaconda3/envs/RAG_langchain/lib/python3.10/site-packages/sentence_transformers/evaluation/EmbeddingSimilarityEvaluator.py:199: ConstantInputWarning: An input array is constant; the correlation coefficient is not defined.\n",
      "  eval_pearson_dot, _ = pearsonr(labels, dot_products)\n",
      "/home/choi/anaconda3/envs/RAG_langchain/lib/python3.10/site-packages/sentence_transformers/evaluation/EmbeddingSimilarityEvaluator.py:200: ConstantInputWarning: An input array is constant; the correlation coefficient is not defined.\n",
      "  eval_spearman_dot, _ = spearmanr(labels, dot_products)\n"
     ]
    },
    {
     "name": "stdout",
     "output_type": "stream",
     "text": [
      "2024-10-17 14:20:29 - Saving model checkpoint to /home/choi/Git/RAG_con_doc/langchain/FT_model/MRL_MNRL_NLI-2024-10-17_14-16-30/checkpoint/checkpoint-966\n",
      "2024-10-17 14:20:29 - Save model to /home/choi/Git/RAG_con_doc/langchain/FT_model/MRL_MNRL_NLI-2024-10-17_14-16-30/checkpoint/checkpoint-966\n",
      "2024-10-17 14:20:29 - EmbeddingSimilarityEvaluator: Evaluating the model on the sts-dev dataset after epoch 6.0:\n",
      "2024-10-17 14:20:30 - Cosine-Similarity :\tPearson: nan\tSpearman: nan\n",
      "2024-10-17 14:20:30 - Manhattan-Distance:\tPearson: nan\tSpearman: nan\n",
      "2024-10-17 14:20:30 - Euclidean-Distance:\tPearson: nan\tSpearman: nan\n",
      "2024-10-17 14:20:30 - Dot-Product-Similarity:\tPearson: nan\tSpearman: nan\n"
     ]
    },
    {
     "name": "stderr",
     "output_type": "stream",
     "text": [
      "/home/choi/anaconda3/envs/RAG_langchain/lib/python3.10/site-packages/sentence_transformers/evaluation/EmbeddingSimilarityEvaluator.py:190: ConstantInputWarning: An input array is constant; the correlation coefficient is not defined.\n",
      "  eval_pearson_cosine, _ = pearsonr(labels, cosine_scores)\n",
      "/home/choi/anaconda3/envs/RAG_langchain/lib/python3.10/site-packages/sentence_transformers/evaluation/EmbeddingSimilarityEvaluator.py:191: ConstantInputWarning: An input array is constant; the correlation coefficient is not defined.\n",
      "  eval_spearman_cosine, _ = spearmanr(labels, cosine_scores)\n",
      "/home/choi/anaconda3/envs/RAG_langchain/lib/python3.10/site-packages/sentence_transformers/evaluation/EmbeddingSimilarityEvaluator.py:193: ConstantInputWarning: An input array is constant; the correlation coefficient is not defined.\n",
      "  eval_pearson_manhattan, _ = pearsonr(labels, manhattan_distances)\n",
      "/home/choi/anaconda3/envs/RAG_langchain/lib/python3.10/site-packages/sentence_transformers/evaluation/EmbeddingSimilarityEvaluator.py:194: ConstantInputWarning: An input array is constant; the correlation coefficient is not defined.\n",
      "  eval_spearman_manhattan, _ = spearmanr(labels, manhattan_distances)\n",
      "/home/choi/anaconda3/envs/RAG_langchain/lib/python3.10/site-packages/sentence_transformers/evaluation/EmbeddingSimilarityEvaluator.py:196: ConstantInputWarning: An input array is constant; the correlation coefficient is not defined.\n",
      "  eval_pearson_euclidean, _ = pearsonr(labels, euclidean_distances)\n",
      "/home/choi/anaconda3/envs/RAG_langchain/lib/python3.10/site-packages/sentence_transformers/evaluation/EmbeddingSimilarityEvaluator.py:197: ConstantInputWarning: An input array is constant; the correlation coefficient is not defined.\n",
      "  eval_spearman_euclidean, _ = spearmanr(labels, euclidean_distances)\n",
      "/home/choi/anaconda3/envs/RAG_langchain/lib/python3.10/site-packages/sentence_transformers/evaluation/EmbeddingSimilarityEvaluator.py:199: ConstantInputWarning: An input array is constant; the correlation coefficient is not defined.\n",
      "  eval_pearson_dot, _ = pearsonr(labels, dot_products)\n",
      "/home/choi/anaconda3/envs/RAG_langchain/lib/python3.10/site-packages/sentence_transformers/evaluation/EmbeddingSimilarityEvaluator.py:200: ConstantInputWarning: An input array is constant; the correlation coefficient is not defined.\n",
      "  eval_spearman_dot, _ = spearmanr(labels, dot_products)\n"
     ]
    },
    {
     "name": "stdout",
     "output_type": "stream",
     "text": [
      "{'loss': 0.0921, 'grad_norm': 1.4522508382797241, 'learning_rate': 8.419599723947551e-06, 'epoch': 6.21}\n",
      "2024-10-17 14:21:06 - Saving model checkpoint to /home/choi/Git/RAG_con_doc/langchain/FT_model/MRL_MNRL_NLI-2024-10-17_14-16-30/checkpoint/checkpoint-1127\n",
      "2024-10-17 14:21:06 - Save model to /home/choi/Git/RAG_con_doc/langchain/FT_model/MRL_MNRL_NLI-2024-10-17_14-16-30/checkpoint/checkpoint-1127\n",
      "2024-10-17 14:21:07 - EmbeddingSimilarityEvaluator: Evaluating the model on the sts-dev dataset after epoch 7.0:\n",
      "2024-10-17 14:21:07 - Cosine-Similarity :\tPearson: nan\tSpearman: nan\n",
      "2024-10-17 14:21:07 - Manhattan-Distance:\tPearson: nan\tSpearman: nan\n",
      "2024-10-17 14:21:07 - Euclidean-Distance:\tPearson: nan\tSpearman: nan\n",
      "2024-10-17 14:21:07 - Dot-Product-Similarity:\tPearson: nan\tSpearman: nan\n"
     ]
    },
    {
     "name": "stderr",
     "output_type": "stream",
     "text": [
      "/home/choi/anaconda3/envs/RAG_langchain/lib/python3.10/site-packages/sentence_transformers/evaluation/EmbeddingSimilarityEvaluator.py:190: ConstantInputWarning: An input array is constant; the correlation coefficient is not defined.\n",
      "  eval_pearson_cosine, _ = pearsonr(labels, cosine_scores)\n",
      "/home/choi/anaconda3/envs/RAG_langchain/lib/python3.10/site-packages/sentence_transformers/evaluation/EmbeddingSimilarityEvaluator.py:191: ConstantInputWarning: An input array is constant; the correlation coefficient is not defined.\n",
      "  eval_spearman_cosine, _ = spearmanr(labels, cosine_scores)\n",
      "/home/choi/anaconda3/envs/RAG_langchain/lib/python3.10/site-packages/sentence_transformers/evaluation/EmbeddingSimilarityEvaluator.py:193: ConstantInputWarning: An input array is constant; the correlation coefficient is not defined.\n",
      "  eval_pearson_manhattan, _ = pearsonr(labels, manhattan_distances)\n",
      "/home/choi/anaconda3/envs/RAG_langchain/lib/python3.10/site-packages/sentence_transformers/evaluation/EmbeddingSimilarityEvaluator.py:194: ConstantInputWarning: An input array is constant; the correlation coefficient is not defined.\n",
      "  eval_spearman_manhattan, _ = spearmanr(labels, manhattan_distances)\n",
      "/home/choi/anaconda3/envs/RAG_langchain/lib/python3.10/site-packages/sentence_transformers/evaluation/EmbeddingSimilarityEvaluator.py:196: ConstantInputWarning: An input array is constant; the correlation coefficient is not defined.\n",
      "  eval_pearson_euclidean, _ = pearsonr(labels, euclidean_distances)\n",
      "/home/choi/anaconda3/envs/RAG_langchain/lib/python3.10/site-packages/sentence_transformers/evaluation/EmbeddingSimilarityEvaluator.py:197: ConstantInputWarning: An input array is constant; the correlation coefficient is not defined.\n",
      "  eval_spearman_euclidean, _ = spearmanr(labels, euclidean_distances)\n",
      "/home/choi/anaconda3/envs/RAG_langchain/lib/python3.10/site-packages/sentence_transformers/evaluation/EmbeddingSimilarityEvaluator.py:199: ConstantInputWarning: An input array is constant; the correlation coefficient is not defined.\n",
      "  eval_pearson_dot, _ = pearsonr(labels, dot_products)\n",
      "/home/choi/anaconda3/envs/RAG_langchain/lib/python3.10/site-packages/sentence_transformers/evaluation/EmbeddingSimilarityEvaluator.py:200: ConstantInputWarning: An input array is constant; the correlation coefficient is not defined.\n",
      "  eval_spearman_dot, _ = spearmanr(labels, dot_products)\n"
     ]
    },
    {
     "name": "stdout",
     "output_type": "stream",
     "text": [
      "2024-10-17 14:21:44 - Saving model checkpoint to /home/choi/Git/RAG_con_doc/langchain/FT_model/MRL_MNRL_NLI-2024-10-17_14-16-30/checkpoint/checkpoint-1288\n",
      "2024-10-17 14:21:44 - Save model to /home/choi/Git/RAG_con_doc/langchain/FT_model/MRL_MNRL_NLI-2024-10-17_14-16-30/checkpoint/checkpoint-1288\n",
      "2024-10-17 14:21:44 - EmbeddingSimilarityEvaluator: Evaluating the model on the sts-dev dataset after epoch 8.0:\n",
      "2024-10-17 14:21:44 - Cosine-Similarity :\tPearson: nan\tSpearman: nan\n",
      "2024-10-17 14:21:44 - Manhattan-Distance:\tPearson: nan\tSpearman: nan\n",
      "2024-10-17 14:21:44 - Euclidean-Distance:\tPearson: nan\tSpearman: nan\n",
      "2024-10-17 14:21:44 - Dot-Product-Similarity:\tPearson: nan\tSpearman: nan\n"
     ]
    },
    {
     "name": "stderr",
     "output_type": "stream",
     "text": [
      "/home/choi/anaconda3/envs/RAG_langchain/lib/python3.10/site-packages/sentence_transformers/evaluation/EmbeddingSimilarityEvaluator.py:190: ConstantInputWarning: An input array is constant; the correlation coefficient is not defined.\n",
      "  eval_pearson_cosine, _ = pearsonr(labels, cosine_scores)\n",
      "/home/choi/anaconda3/envs/RAG_langchain/lib/python3.10/site-packages/sentence_transformers/evaluation/EmbeddingSimilarityEvaluator.py:191: ConstantInputWarning: An input array is constant; the correlation coefficient is not defined.\n",
      "  eval_spearman_cosine, _ = spearmanr(labels, cosine_scores)\n",
      "/home/choi/anaconda3/envs/RAG_langchain/lib/python3.10/site-packages/sentence_transformers/evaluation/EmbeddingSimilarityEvaluator.py:193: ConstantInputWarning: An input array is constant; the correlation coefficient is not defined.\n",
      "  eval_pearson_manhattan, _ = pearsonr(labels, manhattan_distances)\n",
      "/home/choi/anaconda3/envs/RAG_langchain/lib/python3.10/site-packages/sentence_transformers/evaluation/EmbeddingSimilarityEvaluator.py:194: ConstantInputWarning: An input array is constant; the correlation coefficient is not defined.\n",
      "  eval_spearman_manhattan, _ = spearmanr(labels, manhattan_distances)\n",
      "/home/choi/anaconda3/envs/RAG_langchain/lib/python3.10/site-packages/sentence_transformers/evaluation/EmbeddingSimilarityEvaluator.py:196: ConstantInputWarning: An input array is constant; the correlation coefficient is not defined.\n",
      "  eval_pearson_euclidean, _ = pearsonr(labels, euclidean_distances)\n",
      "/home/choi/anaconda3/envs/RAG_langchain/lib/python3.10/site-packages/sentence_transformers/evaluation/EmbeddingSimilarityEvaluator.py:197: ConstantInputWarning: An input array is constant; the correlation coefficient is not defined.\n",
      "  eval_spearman_euclidean, _ = spearmanr(labels, euclidean_distances)\n",
      "/home/choi/anaconda3/envs/RAG_langchain/lib/python3.10/site-packages/sentence_transformers/evaluation/EmbeddingSimilarityEvaluator.py:199: ConstantInputWarning: An input array is constant; the correlation coefficient is not defined.\n",
      "  eval_pearson_dot, _ = pearsonr(labels, dot_products)\n",
      "/home/choi/anaconda3/envs/RAG_langchain/lib/python3.10/site-packages/sentence_transformers/evaluation/EmbeddingSimilarityEvaluator.py:200: ConstantInputWarning: An input array is constant; the correlation coefficient is not defined.\n",
      "  eval_spearman_dot, _ = spearmanr(labels, dot_products)\n"
     ]
    },
    {
     "name": "stdout",
     "output_type": "stream",
     "text": [
      "2024-10-17 14:22:21 - Saving model checkpoint to /home/choi/Git/RAG_con_doc/langchain/FT_model/MRL_MNRL_NLI-2024-10-17_14-16-30/checkpoint/checkpoint-1449\n",
      "2024-10-17 14:22:21 - Save model to /home/choi/Git/RAG_con_doc/langchain/FT_model/MRL_MNRL_NLI-2024-10-17_14-16-30/checkpoint/checkpoint-1449\n",
      "2024-10-17 14:22:21 - EmbeddingSimilarityEvaluator: Evaluating the model on the sts-dev dataset after epoch 9.0:\n",
      "2024-10-17 14:22:22 - Cosine-Similarity :\tPearson: nan\tSpearman: nan\n",
      "2024-10-17 14:22:22 - Manhattan-Distance:\tPearson: nan\tSpearman: nan\n",
      "2024-10-17 14:22:22 - Euclidean-Distance:\tPearson: nan\tSpearman: nan\n",
      "2024-10-17 14:22:22 - Dot-Product-Similarity:\tPearson: nan\tSpearman: nan\n"
     ]
    },
    {
     "name": "stderr",
     "output_type": "stream",
     "text": [
      "/home/choi/anaconda3/envs/RAG_langchain/lib/python3.10/site-packages/sentence_transformers/evaluation/EmbeddingSimilarityEvaluator.py:190: ConstantInputWarning: An input array is constant; the correlation coefficient is not defined.\n",
      "  eval_pearson_cosine, _ = pearsonr(labels, cosine_scores)\n",
      "/home/choi/anaconda3/envs/RAG_langchain/lib/python3.10/site-packages/sentence_transformers/evaluation/EmbeddingSimilarityEvaluator.py:191: ConstantInputWarning: An input array is constant; the correlation coefficient is not defined.\n",
      "  eval_spearman_cosine, _ = spearmanr(labels, cosine_scores)\n",
      "/home/choi/anaconda3/envs/RAG_langchain/lib/python3.10/site-packages/sentence_transformers/evaluation/EmbeddingSimilarityEvaluator.py:193: ConstantInputWarning: An input array is constant; the correlation coefficient is not defined.\n",
      "  eval_pearson_manhattan, _ = pearsonr(labels, manhattan_distances)\n",
      "/home/choi/anaconda3/envs/RAG_langchain/lib/python3.10/site-packages/sentence_transformers/evaluation/EmbeddingSimilarityEvaluator.py:194: ConstantInputWarning: An input array is constant; the correlation coefficient is not defined.\n",
      "  eval_spearman_manhattan, _ = spearmanr(labels, manhattan_distances)\n",
      "/home/choi/anaconda3/envs/RAG_langchain/lib/python3.10/site-packages/sentence_transformers/evaluation/EmbeddingSimilarityEvaluator.py:196: ConstantInputWarning: An input array is constant; the correlation coefficient is not defined.\n",
      "  eval_pearson_euclidean, _ = pearsonr(labels, euclidean_distances)\n",
      "/home/choi/anaconda3/envs/RAG_langchain/lib/python3.10/site-packages/sentence_transformers/evaluation/EmbeddingSimilarityEvaluator.py:197: ConstantInputWarning: An input array is constant; the correlation coefficient is not defined.\n",
      "  eval_spearman_euclidean, _ = spearmanr(labels, euclidean_distances)\n",
      "/home/choi/anaconda3/envs/RAG_langchain/lib/python3.10/site-packages/sentence_transformers/evaluation/EmbeddingSimilarityEvaluator.py:199: ConstantInputWarning: An input array is constant; the correlation coefficient is not defined.\n",
      "  eval_pearson_dot, _ = pearsonr(labels, dot_products)\n",
      "/home/choi/anaconda3/envs/RAG_langchain/lib/python3.10/site-packages/sentence_transformers/evaluation/EmbeddingSimilarityEvaluator.py:200: ConstantInputWarning: An input array is constant; the correlation coefficient is not defined.\n",
      "  eval_spearman_dot, _ = spearmanr(labels, dot_products)\n"
     ]
    },
    {
     "name": "stdout",
     "output_type": "stream",
     "text": [
      "{'loss': 0.0233, 'grad_norm': 2.373992681503296, 'learning_rate': 1.5182884748102142e-06, 'epoch': 9.32}\n",
      "2024-10-17 14:22:57 - Saving model checkpoint to /home/choi/Git/RAG_con_doc/langchain/FT_model/MRL_MNRL_NLI-2024-10-17_14-16-30/checkpoint/checkpoint-1610\n",
      "2024-10-17 14:22:57 - Save model to /home/choi/Git/RAG_con_doc/langchain/FT_model/MRL_MNRL_NLI-2024-10-17_14-16-30/checkpoint/checkpoint-1610\n",
      "2024-10-17 14:22:58 - EmbeddingSimilarityEvaluator: Evaluating the model on the sts-dev dataset after epoch 10.0:\n",
      "2024-10-17 14:22:58 - Cosine-Similarity :\tPearson: nan\tSpearman: nan\n",
      "2024-10-17 14:22:58 - Manhattan-Distance:\tPearson: nan\tSpearman: nan\n",
      "2024-10-17 14:22:58 - Euclidean-Distance:\tPearson: nan\tSpearman: nan\n",
      "2024-10-17 14:22:58 - Dot-Product-Similarity:\tPearson: nan\tSpearman: nan\n",
      "{'train_runtime': 387.4178, 'train_samples_per_second': 265.966, 'train_steps_per_second': 4.156, 'train_loss': 0.7442021006382771, 'epoch': 10.0}\n",
      "2024-10-17 14:22:58 - Use pytorch device_name: cuda\n",
      "2024-10-17 14:22:58 - Load pretrained SentenceTransformer: /home/choi/Git/RAG_con_doc/langchain/FT_model/MRL_MNRL_NLI-2024-10-17_14-16-30\n",
      "2024-10-17 14:22:58 - Read ConSTS benchmark test dataset\n",
      "2024-10-17 14:22:58 - EmbeddingSimilarityEvaluator: Evaluating the model on the sts-test dataset:\n",
      "2024-10-17 14:22:58 - Cosine-Similarity :\tPearson: nan\tSpearman: nan\n",
      "2024-10-17 14:22:58 - Manhattan-Distance:\tPearson: nan\tSpearman: nan\n",
      "2024-10-17 14:22:58 - Euclidean-Distance:\tPearson: nan\tSpearman: nan\n",
      "2024-10-17 14:22:58 - Dot-Product-Similarity:\tPearson: nan\tSpearman: nan\n"
     ]
    },
    {
     "name": "stderr",
     "output_type": "stream",
     "text": [
      "/home/choi/anaconda3/envs/RAG_langchain/lib/python3.10/site-packages/sentence_transformers/evaluation/EmbeddingSimilarityEvaluator.py:190: ConstantInputWarning: An input array is constant; the correlation coefficient is not defined.\n",
      "  eval_pearson_cosine, _ = pearsonr(labels, cosine_scores)\n",
      "/home/choi/anaconda3/envs/RAG_langchain/lib/python3.10/site-packages/sentence_transformers/evaluation/EmbeddingSimilarityEvaluator.py:191: ConstantInputWarning: An input array is constant; the correlation coefficient is not defined.\n",
      "  eval_spearman_cosine, _ = spearmanr(labels, cosine_scores)\n",
      "/home/choi/anaconda3/envs/RAG_langchain/lib/python3.10/site-packages/sentence_transformers/evaluation/EmbeddingSimilarityEvaluator.py:193: ConstantInputWarning: An input array is constant; the correlation coefficient is not defined.\n",
      "  eval_pearson_manhattan, _ = pearsonr(labels, manhattan_distances)\n",
      "/home/choi/anaconda3/envs/RAG_langchain/lib/python3.10/site-packages/sentence_transformers/evaluation/EmbeddingSimilarityEvaluator.py:194: ConstantInputWarning: An input array is constant; the correlation coefficient is not defined.\n",
      "  eval_spearman_manhattan, _ = spearmanr(labels, manhattan_distances)\n",
      "/home/choi/anaconda3/envs/RAG_langchain/lib/python3.10/site-packages/sentence_transformers/evaluation/EmbeddingSimilarityEvaluator.py:196: ConstantInputWarning: An input array is constant; the correlation coefficient is not defined.\n",
      "  eval_pearson_euclidean, _ = pearsonr(labels, euclidean_distances)\n",
      "/home/choi/anaconda3/envs/RAG_langchain/lib/python3.10/site-packages/sentence_transformers/evaluation/EmbeddingSimilarityEvaluator.py:197: ConstantInputWarning: An input array is constant; the correlation coefficient is not defined.\n",
      "  eval_spearman_euclidean, _ = spearmanr(labels, euclidean_distances)\n",
      "/home/choi/anaconda3/envs/RAG_langchain/lib/python3.10/site-packages/sentence_transformers/evaluation/EmbeddingSimilarityEvaluator.py:199: ConstantInputWarning: An input array is constant; the correlation coefficient is not defined.\n",
      "  eval_pearson_dot, _ = pearsonr(labels, dot_products)\n",
      "/home/choi/anaconda3/envs/RAG_langchain/lib/python3.10/site-packages/sentence_transformers/evaluation/EmbeddingSimilarityEvaluator.py:200: ConstantInputWarning: An input array is constant; the correlation coefficient is not defined.\n",
      "  eval_spearman_dot, _ = spearmanr(labels, dot_products)\n",
      "/home/choi/anaconda3/envs/RAG_langchain/lib/python3.10/site-packages/sentence_transformers/evaluation/EmbeddingSimilarityEvaluator.py:190: ConstantInputWarning: An input array is constant; the correlation coefficient is not defined.\n",
      "  eval_pearson_cosine, _ = pearsonr(labels, cosine_scores)\n",
      "/home/choi/anaconda3/envs/RAG_langchain/lib/python3.10/site-packages/sentence_transformers/evaluation/EmbeddingSimilarityEvaluator.py:191: ConstantInputWarning: An input array is constant; the correlation coefficient is not defined.\n",
      "  eval_spearman_cosine, _ = spearmanr(labels, cosine_scores)\n",
      "/home/choi/anaconda3/envs/RAG_langchain/lib/python3.10/site-packages/sentence_transformers/evaluation/EmbeddingSimilarityEvaluator.py:193: ConstantInputWarning: An input array is constant; the correlation coefficient is not defined.\n",
      "  eval_pearson_manhattan, _ = pearsonr(labels, manhattan_distances)\n",
      "/home/choi/anaconda3/envs/RAG_langchain/lib/python3.10/site-packages/sentence_transformers/evaluation/EmbeddingSimilarityEvaluator.py:194: ConstantInputWarning: An input array is constant; the correlation coefficient is not defined.\n",
      "  eval_spearman_manhattan, _ = spearmanr(labels, manhattan_distances)\n",
      "/home/choi/anaconda3/envs/RAG_langchain/lib/python3.10/site-packages/sentence_transformers/evaluation/EmbeddingSimilarityEvaluator.py:196: ConstantInputWarning: An input array is constant; the correlation coefficient is not defined.\n",
      "  eval_pearson_euclidean, _ = pearsonr(labels, euclidean_distances)\n",
      "/home/choi/anaconda3/envs/RAG_langchain/lib/python3.10/site-packages/sentence_transformers/evaluation/EmbeddingSimilarityEvaluator.py:197: ConstantInputWarning: An input array is constant; the correlation coefficient is not defined.\n",
      "  eval_spearman_euclidean, _ = spearmanr(labels, euclidean_distances)\n",
      "/home/choi/anaconda3/envs/RAG_langchain/lib/python3.10/site-packages/sentence_transformers/evaluation/EmbeddingSimilarityEvaluator.py:199: ConstantInputWarning: An input array is constant; the correlation coefficient is not defined.\n",
      "  eval_pearson_dot, _ = pearsonr(labels, dot_products)\n",
      "/home/choi/anaconda3/envs/RAG_langchain/lib/python3.10/site-packages/sentence_transformers/evaluation/EmbeddingSimilarityEvaluator.py:200: ConstantInputWarning: An input array is constant; the correlation coefficient is not defined.\n",
      "  eval_spearman_dot, _ = spearmanr(labels, dot_products)\n"
     ]
    },
    {
     "data": {
      "text/plain": [
       "{'sts-test_pearson_cosine': nan,\n",
       " 'sts-test_spearman_cosine': nan,\n",
       " 'sts-test_pearson_manhattan': nan,\n",
       " 'sts-test_spearman_manhattan': nan,\n",
       " 'sts-test_pearson_euclidean': nan,\n",
       " 'sts-test_spearman_euclidean': nan,\n",
       " 'sts-test_pearson_dot': nan,\n",
       " 'sts-test_spearman_dot': nan,\n",
       " 'sts-test_pearson_max': nan,\n",
       " 'sts-test_spearman_max': nan}"
      ]
     },
     "execution_count": 2,
     "metadata": {},
     "output_type": "execute_result"
    }
   ],
   "source": [
    "import argparse\n",
    "import glob\n",
    "import logging\n",
    "import math\n",
    "import os\n",
    "import random\n",
    "from datetime import datetime\n",
    "\n",
    "import numpy as np\n",
    "import torch\n",
    "from sentence_transformers import SentenceTransformer, LoggingHandler, models, losses, datasets\n",
    "from sentence_transformers.evaluation import EmbeddingSimilarityEvaluator\n",
    "\n",
    "from data_util import load_kor_sts_samples, load_kor_nli_samples\n",
    "\n",
    "seed = 42\n",
    "epochs = 10\n",
    "batch_size = 64\n",
    "# Fix random seed\n",
    "random.seed(seed)\n",
    "np.random.seed(seed)\n",
    "torch.manual_seed(seed)\n",
    "torch.cuda.manual_seed(seed)\n",
    "\n",
    "word_embedding_model = models.Transformer(\n",
    "    model_name_or_path='klue/roberta-base',\n",
    "    max_seq_length=512,\n",
    "    do_lower_case=False,\n",
    "    )\n",
    "pooling_model = models.Pooling(\n",
    "    word_embedding_model.get_word_embedding_dimension(),\n",
    "    pooling_mode_mean_tokens=True,\n",
    "    pooling_mode_cls_token=False,\n",
    "    pooling_mode_max_tokens=False\n",
    ")\n",
    "model = SentenceTransformer(modules=[word_embedding_model, pooling_model])\n",
    "\n",
    "# Configure logger\n",
    "logging.basicConfig(\n",
    "    format='%(asctime)s - %(message)s', datefmt='%Y-%m-%d %H:%M:%S', level=logging.INFO, handlers=[LoggingHandler()]\n",
    ")\n",
    "\n",
    "# Read the dataset\n",
    "model_save_path = os.path.join(\n",
    "    '/home/choi/Git/RAG_con_doc/langchain/FT_model','MRL_MNRL_NLI' +'-' + datetime.now().strftime(\"%Y-%m-%d_%H-%M-%S\")\n",
    ")\n",
    "\n",
    "# Read the dataset\n",
    "nli_dataset_path = '/home/choi/Git/ConSRoBERTa/data/ConNLI'\n",
    "sts_dataset_path = '/home/choi/Git/ConSRoBERTa/data/ConSTS'\n",
    "logging.info(\"Read ConNLI train/ConSTS test dataset\")\n",
    "train_files = glob.glob(os.path.join(nli_dataset_path, \"*ConNLI_train.tsv\"))\n",
    "dev_file = os.path.join(sts_dataset_path, \"ConSTS_test.tsv\")\n",
    "train_samples = []\n",
    "for train_file in train_files:\n",
    "    train_samples += load_kor_nli_samples(train_file)\n",
    "train_dataloader = datasets.NoDuplicatesDataLoader(train_samples, batch_size=batch_size)\n",
    "dev_samples = load_kor_sts_samples(dev_file)\n",
    "dev_evaluator = EmbeddingSimilarityEvaluator.from_input_examples(dev_samples, batch_size=batch_size, name='sts-dev')\n",
    "train_loss = losses.MultipleNegativesRankingLoss(model)\n",
    "train_loss = losses.MatryoshkaLoss(model, train_loss, [768, 512, 256, 128, 64])\n",
    "\n",
    "# Configure the training.\n",
    "warmup_steps = math.ceil(len(train_dataloader) * epochs * 0.1)  # 10% of train data for warm-up\n",
    "logging.info(\"Warmup-steps: {}\".format(warmup_steps))\n",
    "\n",
    "# Train the model\n",
    "model.fit(\n",
    "    train_objectives=[(train_dataloader, train_loss)],\n",
    "    evaluator=dev_evaluator,\n",
    "    epochs=epochs,\n",
    "    evaluation_steps=10000,\n",
    "    warmup_steps=warmup_steps,\n",
    "    output_path=model_save_path,\n",
    "    checkpoint_path=os.path.join(model_save_path, \"checkpoint\"),\n",
    "    checkpoint_save_steps=len(train_dataloader),\n",
    "    checkpoint_save_total_limit=epochs\n",
    "    )\n",
    "\n",
    "# Load the stored model and evaluate its performance on STS benchmark dataset\n",
    "model = SentenceTransformer(model_save_path)\n",
    "logging.info(\"Read ConSTS benchmark test dataset\")\n",
    "test_file = os.path.join(sts_dataset_path, \"ConSTS_test.tsv\")\n",
    "test_samples = load_kor_sts_samples(test_file)\n",
    "test_evaluator = EmbeddingSimilarityEvaluator.from_input_examples(test_samples, name='sts-test')\n",
    "test_evaluator(model, output_path=model_save_path)\n"
   ]
  }
 ],
 "metadata": {
  "kernelspec": {
   "display_name": "RAG_langchain",
   "language": "python",
   "name": "python3"
  },
  "language_info": {
   "codemirror_mode": {
    "name": "ipython",
    "version": 3
   },
   "file_extension": ".py",
   "mimetype": "text/x-python",
   "name": "python",
   "nbconvert_exporter": "python",
   "pygments_lexer": "ipython3",
   "version": "3.10.14"
  }
 },
 "nbformat": 4,
 "nbformat_minor": 2
}
