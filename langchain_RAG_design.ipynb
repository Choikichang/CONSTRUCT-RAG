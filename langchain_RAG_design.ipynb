{
 "cells": [
  {
   "cell_type": "code",
   "execution_count": 1,
   "metadata": {},
   "outputs": [
    {
     "data": {
      "text/plain": [
       "True"
      ]
     },
     "execution_count": 1,
     "metadata": {},
     "output_type": "execute_result"
    }
   ],
   "source": [
    "from dotenv import load_dotenv\n",
    "\n",
    "load_dotenv()"
   ]
  },
  {
   "cell_type": "code",
   "execution_count": 2,
   "metadata": {},
   "outputs": [
    {
     "name": "stdout",
     "output_type": "stream",
     "text": [
      "[API KEY]\n",
      "sk-proj-2ALiWBzcJl4s9ri6EUJ6T3BlbkFJxbUDIanlzbIf6JMPE7o2\n",
      "true\n"
     ]
    }
   ],
   "source": [
    "import os\n",
    "\n",
    "print(f\"[API KEY]\\n{os.environ['OPENAI_API_KEY']}\")\n",
    "print(os.environ[\"LANGCHAIN_TRACING_V2\"])"
   ]
  },
  {
   "cell_type": "code",
   "execution_count": 3,
   "metadata": {},
   "outputs": [],
   "source": [
    "import torch\n",
    "\n",
    "from langchain_text_splitters import RecursiveCharacterTextSplitter\n",
    "from langchain_community.document_loaders import PyMuPDFLoader\n",
    "from langchain_community.vectorstores import FAISS\n",
    "from langchain_community.embeddings import HuggingFaceEmbeddings\n",
    "from langchain_core.output_parsers import StrOutputParser\n",
    "from langchain_core.runnables import RunnablePassthrough\n",
    "from langchain_core.prompts.chat import PromptTemplate, ChatPromptTemplate\n",
    "\n",
    "from langchain_openai import ChatOpenAI, OpenAIEmbeddings\n",
    "\n",
    "from transformers import AutoModel, AutoTokenizer\n",
    "\n",
    "from langchain_community.chat_models import ChatOllama\n",
    "from langchain_core.callbacks.streaming_stdout import StreamingStdOutCallbackHandler\n",
    "from langchain_core.callbacks.manager import CallbackManager\n",
    "\n",
    "\n",
    "# EEVE 모델 사용\n",
    "llm = ChatOllama(\n",
    "    temperature=0.7,\n",
    "    top_k=40,\n",
    "    top_p=0.9,\n",
    "    model=\"EEVE:latest\",\n",
    "    callback_manager=CallbackManager([StreamingStdOutCallbackHandler()]),\n",
    ")"
   ]
  },
  {
   "cell_type": "code",
   "execution_count": 4,
   "metadata": {},
   "outputs": [
    {
     "name": "stdout",
     "output_type": "stream",
     "text": [
      "/home/choi/Git/RAG_con_doc/langchain\n"
     ]
    }
   ],
   "source": [
    "import os\n",
    "current_directory = os.getcwd()\n",
    "print(current_directory)"
   ]
  },
  {
   "cell_type": "code",
   "execution_count": 5,
   "metadata": {},
   "outputs": [
    {
     "name": "stdout",
     "output_type": "stream",
     "text": [
      "문서의 페이지수:6\n"
     ]
    }
   ],
   "source": [
    "# 1단계 : 문서 로드\n",
    "loader = PyMuPDFLoader(\"./data/Road_bridge_design_watergate.pdf\")\n",
    "docs = loader.load()\n",
    "print(f\"문서의 페이지수:{len(docs)}\")\n"
   ]
  },
  {
   "cell_type": "code",
   "execution_count": 6,
   "metadata": {},
   "outputs": [
    {
     "name": "stdout",
     "output_type": "stream",
     "text": [
      "분할된 청크의 수 : 7\n"
     ]
    }
   ],
   "source": [
    "# 2단계 : 문서 분할\n",
    "text_splitter = RecursiveCharacterTextSplitter(chunk_size=1000, chunk_overlap=50)\n",
    "split_documents = text_splitter.split_documents(docs)\n",
    "print(f\"분할된 청크의 수 : {len(split_documents)}\")"
   ]
  },
  {
   "cell_type": "code",
   "execution_count": 7,
   "metadata": {},
   "outputs": [
    {
     "name": "stderr",
     "output_type": "stream",
     "text": [
      "/home/choi/anaconda3/envs/RAG_langchain/lib/python3.10/site-packages/huggingface_hub/file_download.py:1132: FutureWarning: `resume_download` is deprecated and will be removed in version 1.0.0. Downloads always resume when possible. If you want to force a new download, use `force_download=True`.\n",
      "  warnings.warn(\n"
     ]
    }
   ],
   "source": [
    "# 3단계 : 임베딩 (결정)\n",
    "# ko-sroberta-multitask 임베딩 사용\n",
    "import torch\n",
    "from langchain_community.embeddings import HuggingFaceEmbeddings\n",
    "\n",
    "def cal_score(a, b):\n",
    "    if len(a.shape) == 1: a = a.unsqueeze(0)\n",
    "    if len(b.shape) == 1: b = b.unsqueeze(0)\n",
    "\n",
    "    a_norm = a / a.norm(dim=1)[:, None]\n",
    "    b_norm = b / b.norm(dim=1)[:, None]\n",
    "    return torch.mm(a_norm, b_norm.transpose(0, 1)) * 100\n",
    "\n",
    "embeddings = HuggingFaceEmbeddings(model_name = 'jhgan/ko-sroberta-multitask')\n",
    "\n",
    "sentences = [\n",
    "    '관측된 세굴, 제방침식 및 잔해물이나 결빙체에 의한 구조물의 손상을 포함하는 과거 홍수시 구조물의 성능과 하천의 거동에 관해 입수 가능한 역사적 정보',\n",
    "    '과거에 홍수가 났을 때 다리와 같은 구조물이 어떻게 버텼는지, 그리고 강이 어떻게 움직였는지에 대한 정보는, 홍수로 인해 생긴 땅의 침식이나 구조물의 손상 같은 관찰된 내용을 포함한다.',\n",
    "    '세굴 해석에 요구되는 재료 특성을 분석하기에 충분한 깊이의 하상재료채취',\n",
    "    ''\n",
    "    ]\n",
    "query_result1 = embeddings.embed_query(sentences[0])\n",
    "query_result2 = embeddings.embed_query(sentences[1])\n",
    "query_result3 = embeddings.embed_query(sentences[2])\n",
    "\n"
   ]
  },
  {
   "cell_type": "code",
   "execution_count": 11,
   "metadata": {},
   "outputs": [],
   "source": [
    "# 3-1단계 : 임베딩 파인튜닝 (결정)\n",
    "# klue roberta base 임베딩 사용\n",
    "import torch\n",
    "from langchain_community.embeddings import HuggingFaceEmbeddings\n",
    "\n",
    "def cal_score(a, b):\n",
    "    if len(a.shape) == 1: a = a.unsqueeze(0)\n",
    "    if len(b.shape) == 1: b = b.unsqueeze(0)\n",
    "\n",
    "    a_norm = a / a.norm(dim=1)[:, None]\n",
    "    b_norm = b / b.norm(dim=1)[:, None]\n",
    "    return torch.mm(a_norm, b_norm.transpose(0, 1)) * 100\n",
    "\n",
    "embeddings = HuggingFaceEmbeddings(model_name = '/home/choi/Git/ConSRoBERTa/output/con_nli_jhgan-ko-sbert-multitask-2024-07-17_21-06-49')\n",
    "\n",
    "sentences = [\n",
    "    '관측된 세굴, 제방침식 및 잔해물이나 결빙체에 의한 구조물의 손상을 포함하는 과거 홍수시 구조물의 성능과 하천의 거동에 관해 입수 가능한 역사적 정보',\n",
    "    '과거에 홍수가 났을 때 다리와 같은 구조물이 어떻게 버텼는지, 그리고 강이 어떻게 움직였는지에 대한 정보는, 홍수로 인해 생긴 땅의 침식이나 구조물의 손상 같은 관찰된 내용을 포함한다.',\n",
    "    '세굴 해석에 요구되는 재료 특성을 분석하기에 충분한 깊이의 하상재료채취',\n",
    "    ''\n",
    "    ]\n",
    "query_result1 = embeddings.embed_query(sentences[0])\n",
    "query_result2 = embeddings.embed_query(sentences[1])\n",
    "query_result3 = embeddings.embed_query(sentences[2])\n"
   ]
  },
  {
   "cell_type": "code",
   "execution_count": 12,
   "metadata": {},
   "outputs": [
    {
     "name": "stdout",
     "output_type": "stream",
     "text": [
      "768\n",
      "tensor([[80.9746]]) tensor([[15.3142]])\n"
     ]
    }
   ],
   "source": [
    "# jhgan/ko-sroberta-multitask 임베딩 유사도 비교\n",
    "print(len(query_result1))\n",
    "\n",
    "query_result1 = embeddings.embed_query(sentences[0])\n",
    "query_result2 = embeddings.embed_query(sentences[1])\n",
    "query_result3 = embeddings.embed_query(sentences[2])\n",
    "\n",
    "query_result1  = torch.tensor(query_result1)\n",
    "query_result2  = torch.tensor(query_result2)\n",
    "query_result3  = torch.tensor(query_result3)\n",
    "\n",
    "open_score01 = cal_score(query_result1, query_result2)\n",
    "open_score02 = cal_score(query_result1, query_result3)\n",
    "\n",
    "print(open_score01, open_score02)\n"
   ]
  },
  {
   "cell_type": "code",
   "execution_count": 18,
   "metadata": {},
   "outputs": [],
   "source": [
    "# 3-1단계 : 임베딩 파인튜닝 (결정)\n",
    "# jhgan ko sroberta 임베딩 사용\n",
    "import torch\n",
    "from langchain_community.embeddings import HuggingFaceEmbeddings\n",
    "\n",
    "def cal_score(a, b):\n",
    "    if len(a.shape) == 1: a = a.unsqueeze(0)\n",
    "    if len(b.shape) == 1: b = b.unsqueeze(0)\n",
    "\n",
    "    a_norm = a / a.norm(dim=1)[:, None]\n",
    "    b_norm = b / b.norm(dim=1)[:, None]\n",
    "    return torch.mm(a_norm, b_norm.transpose(0, 1)) * 100\n",
    "\n",
    "embeddings = HuggingFaceEmbeddings(model_name = '/home/choi/Git/ConSRoBERTa/output/con_nli_jhgan-ko-sbert-multitask-2024-07-17_21-14-24')\n",
    "\n",
    "sentences = [\n",
    "    '관측된 세굴, 제방침식 및 잔해물이나 결빙체에 의한 구조물의 손상을 포함하는 과거 홍수시 구조물의 성능과 하천의 거동에 관해 입수 가능한 역사적 정보',\n",
    "    '과거에 홍수가 났을 때 다리와 같은 구조물이 어떻게 버텼는지, 그리고 강이 어떻게 움직였는지에 대한 정보는, 홍수로 인해 생긴 땅의 침식이나 구조물의 손상 같은 관찰된 내용을 포함한다.',\n",
    "    '세굴 해석에 요구되는 재료 특성을 분석하기에 충분한 깊이의 하상재료채취',\n",
    "    ''\n",
    "    ]\n",
    "query_result1 = embeddings.embed_query(sentences[0])\n",
    "query_result2 = embeddings.embed_query(sentences[1])\n",
    "query_result3 = embeddings.embed_query(sentences[2])"
   ]
  },
  {
   "cell_type": "code",
   "execution_count": 19,
   "metadata": {},
   "outputs": [
    {
     "name": "stdout",
     "output_type": "stream",
     "text": [
      "768\n",
      "tensor([[78.1219]]) tensor([[31.5089]])\n"
     ]
    }
   ],
   "source": [
    "# jhgan/ko-sroberta-multitask 임베딩 유사도 비교\n",
    "print(len(query_result1))\n",
    "\n",
    "query_result1 = embeddings.embed_query(sentences[0])\n",
    "query_result2 = embeddings.embed_query(sentences[1])\n",
    "query_result3 = embeddings.embed_query(sentences[2])\n",
    "\n",
    "query_result1  = torch.tensor(query_result1)\n",
    "query_result2  = torch.tensor(query_result2)\n",
    "query_result3  = torch.tensor(query_result3)\n",
    "\n",
    "open_score01 = cal_score(query_result1, query_result2)\n",
    "open_score02 = cal_score(query_result1, query_result3)\n",
    "\n",
    "print(open_score01, open_score02)\n"
   ]
  },
  {
   "cell_type": "code",
   "execution_count": 29,
   "metadata": {},
   "outputs": [
    {
     "name": "stdout",
     "output_type": "stream",
     "text": [
      "768\n"
     ]
    }
   ],
   "source": [
    "# 3단계-1 : 임베딩\n",
    "# KoSimCSE-roberta 임베딩 사용\n",
    "model = AutoModel.from_pretrained('BM-K/KoSimCSE-roberta-multitask') \n",
    "tokenizer = AutoTokenizer.from_pretrained('BM-K/KoSimCSE-roberta-multitask')\n",
    "\n",
    "inputs = tokenizer(split_documents[0].page_content, padding=True, truncation=True, return_tensors='pt')\n",
    "embeddings, _ = model(**inputs, return_dict=False)\n",
    "\n",
    "print(len(embeddings[0][0]))"
   ]
  },
  {
   "cell_type": "code",
   "execution_count": 31,
   "metadata": {},
   "outputs": [
    {
     "name": "stdout",
     "output_type": "stream",
     "text": [
      "tensor([[85.9120]], grad_fn=<MulBackward0>) tensor([[46.9270]], grad_fn=<MulBackward0>)\n"
     ]
    }
   ],
   "source": [
    "# KoSimCSE-roberta 임베딩 유사도 비교\n",
    "# 간이 건설 Semantic Textual Similarity test\n",
    "def cal_score(a, b):\n",
    "    if len(a.shape) == 1: a = a.unsqueeze(0)\n",
    "    if len(b.shape) == 1: b = b.unsqueeze(0)\n",
    "\n",
    "    a_norm = a / a.norm(dim=1)[:, None]\n",
    "    b_norm = b / b.norm(dim=1)[:, None]\n",
    "    return torch.mm(a_norm, b_norm.transpose(0, 1)) * 100\n",
    "\n",
    "sentences = [\n",
    "    '관측된 세굴, 제방침식 및 잔해물이나 결빙체에 의한 구조물의 손상을 포함하는 과거 홍수시 구조물의 성능과 하천의 거동에 관해 입수 가능한 역사적 정보',\n",
    "    '과거에 홍수가 났을 때 다리와 같은 구조물이 어떻게 버텼는지, 그리고 강이 어떻게 움직였는지에 대한 정보는, 홍수로 인해 생긴 땅의 침식이나 구조물의 손상 같은 관찰된 내용을 포함한다.',\n",
    "    '세굴 해석에 요구되는 재료 특성을 분석하기에 충분한 깊이의 하상재료채취',\n",
    "    ''\n",
    "    ]\n",
    "\n",
    "inputs = tokenizer(sentences, padding=True, truncation=True, return_tensors='pt')\n",
    "embeddings, _ = model(**inputs, return_dict=False)\n",
    "\n",
    "score01 = cal_score(embeddings[0][0], embeddings[1][0])\n",
    "score02 = cal_score(embeddings[0][0], embeddings[2][0])\n",
    "print(score01, score02)"
   ]
  },
  {
   "cell_type": "code",
   "execution_count": 52,
   "metadata": {},
   "outputs": [],
   "source": [
    "# 3단계-2 : 임베딩 OpenAI embedding 사용\n",
    "def cal_score(a, b):\n",
    "    if len(a.shape) == 1: a = a.unsqueeze(0)\n",
    "    if len(b.shape) == 1: b = b.unsqueeze(0)\n",
    "\n",
    "    a_norm = a / a.norm(dim=1)[:, None]\n",
    "    b_norm = b / b.norm(dim=1)[:, None]\n",
    "    return torch.mm(a_norm, b_norm.transpose(0, 1)) * 100\n",
    "\n",
    "embeddings2 = OpenAIEmbeddings(model = 'text-embedding-ada-002')\n",
    "sentences = [\n",
    "    '관측된 세굴, 제방침식 및 잔해물이나 결빙체에 의한 구조물의 손상을 포함하는 과거 홍수시 구조물의 성능과 하천의 거동에 관해 입수 가능한 역사적 정보',\n",
    "    '과거에 홍수가 났을 때 다리와 같은 구조물이 어떻게 버텼는지, 그리고 강이 어떻게 움직였는지에 대한 정보는, 홍수로 인해 생긴 땅의 침식이나 구조물의 손상 같은 관찰된 내용을 포함한다.',\n",
    "    '세굴 해석에 요구되는 재료 특성을 분석하기에 충분한 깊이의 하상재료채취',\n",
    "    ''\n",
    "    ]\n",
    "query_result1 = embeddings2.embed_query(sentences[0])\n",
    "query_result2 = embeddings2.embed_query(sentences[1])\n",
    "query_result3 = embeddings2.embed_query(sentences[2])\n",
    "\n"
   ]
  },
  {
   "cell_type": "code",
   "execution_count": 39,
   "metadata": {},
   "outputs": [
    {
     "name": "stdout",
     "output_type": "stream",
     "text": [
      "1536\n",
      "tensor([[90.9867]]) tensor([[83.3793]])\n"
     ]
    }
   ],
   "source": [
    "# OpenAI 임베딩 유사도 비교\n",
    "print(len(query_result1))\n",
    "\n",
    "query_result1 = embeddings2.embed_query(sentences[0])\n",
    "query_result2 = embeddings2.embed_query(sentences[1])\n",
    "query_result3 = embeddings2.embed_query(sentences[2])\n",
    "\n",
    "query_result1  = torch.tensor(query_result1)\n",
    "query_result2  = torch.tensor(query_result2)\n",
    "query_result3  = torch.tensor(query_result3)\n",
    "\n",
    "open_score01 = cal_score(query_result1, query_result2)\n",
    "open_score02 = cal_score(query_result1, query_result3)\n",
    "\n",
    "print(open_score01, open_score02)\n",
    "\n"
   ]
  },
  {
   "cell_type": "code",
   "execution_count": 7,
   "metadata": {},
   "outputs": [],
   "source": [
    "# 3단계-3 임베딩 GPT4ALL nomic-embed 사용\n",
    "from langchain_community.embeddings import OllamaEmbeddings\n",
    "\n",
    "def cal_score(a, b):\n",
    "    if len(a.shape) == 1: a = a.unsqueeze(0)\n",
    "    if len(b.shape) == 1: b = b.unsqueeze(0)\n",
    "\n",
    "    a_norm = a / a.norm(dim=1)[:, None]\n",
    "    b_norm = b / b.norm(dim=1)[:, None]\n",
    "    return torch.mm(a_norm, b_norm.transpose(0, 1)) * 100\n",
    "\n",
    "embeddings3 = OllamaEmbeddings(model='nomic-embed-text:latest')\n",
    "sentences = [\n",
    "    '관측된 세굴, 제방침식 및 잔해물이나 결빙체에 의한 구조물의 손상을 포함하는 과거 홍수시 구조물의 성능과 하천의 거동에 관해 입수 가능한 역사적 정보',\n",
    "    '과거에 홍수가 났을 때 다리와 같은 구조물이 어떻게 버텼는지, 그리고 강이 어떻게 움직였는지에 대한 정보는, 홍수로 인해 생긴 땅의 침식이나 구조물의 손상 같은 관찰된 내용을 포함한다.',\n",
    "    '세굴 해석에 요구되는 재료 특성을 분석하기에 충분한 깊이의 하상재료채취',\n",
    "    ''\n",
    "    ]\n",
    "query_result1 = embeddings3.embed_query(sentences[0])\n",
    "query_result2 = embeddings3.embed_query(sentences[1])\n",
    "query_result3 = embeddings3.embed_query(sentences[2])"
   ]
  },
  {
   "cell_type": "code",
   "execution_count": 9,
   "metadata": {},
   "outputs": [
    {
     "name": "stdout",
     "output_type": "stream",
     "text": [
      "768\n",
      "tensor([[87.3962]]) tensor([[92.1106]])\n"
     ]
    }
   ],
   "source": [
    "# nomic-embed 임베딩 유사도 비교\n",
    "print(len(query_result1))\n",
    "\n",
    "# query_result1 = embeddings.embed_query(sentences[0])\n",
    "# query_result2 = embeddings.embed_query(sentences[1])\n",
    "# query_result3 = embeddings.embed_query(sentences[2])\n",
    "\n",
    "query_result1  = torch.tensor(query_result1)\n",
    "query_result2  = torch.tensor(query_result2)\n",
    "query_result3  = torch.tensor(query_result3)\n",
    "\n",
    "open_score01 = cal_score(query_result1, query_result2)\n",
    "open_score02 = cal_score(query_result1, query_result3)\n",
    "\n",
    "print(open_score01, open_score02)"
   ]
  },
  {
   "cell_type": "code",
   "execution_count": 10,
   "metadata": {},
   "outputs": [],
   "source": [
    "# 단계 4: DB 생성 및 저장\n",
    "# vectorstore = FAISS.from_documents(documents=split_documents, embedding=embeddings)\n",
    "vectorstore = FAISS.from_documents(documents=split_documents, embedding=embeddings3)"
   ]
  },
  {
   "cell_type": "code",
   "execution_count": 11,
   "metadata": {},
   "outputs": [],
   "source": [
    "# 단계 5: 검색기(Retriever) 생성\n",
    "retriever = vectorstore.as_retriever()"
   ]
  },
  {
   "cell_type": "code",
   "execution_count": 13,
   "metadata": {},
   "outputs": [
    {
     "data": {
      "text/plain": [
       "[Document(page_content='설계시 고려해야 한다.\\n  난류 수역에 위치한 교대의 안정성에 대해서는 철저한 검토를 수행해야 한다. 노출된 제방경사\\n지는 적절한 세굴방지대책으로 보호한다.', metadata={'source': './data/Road_bridge_design_watergate.pdf', 'file_path': './data/Road_bridge_design_watergate.pdf', 'page': 3, 'total_pages': 6, 'format': 'PDF 1.6', 'title': '<3132C2F7BFE4BEE0BABB2DC3D6C1BEC0CEBCE232303132303230382E687770>', 'author': '<BEC6C6AE>', 'subject': '', 'keywords': '', 'creator': 'PScript5.dll Version 5.2', 'producer': 'Acrobat Distiller 7.0.5 (Windows)', 'creationDate': \"D:20240627141630+09'00'\", 'modDate': \"D:20240627141712+09'00'\", 'trapped': ''}),\n",
       " Document(page_content='제2장\\n설계개요\\n2-18 ●\\n(2) 설계강우강도\\n  교량바닥판 배수에 적용하는 설계강우강도는 발주자가 규정하지 않는 한 인접도로의 포장 배\\n수설계에 적용하는 설계강우강도보다 작지 않아야 한다.\\n(3) 배수시설의 형식, 규격 및 개수\\n  바닥판배수시설의 개수는 수리조건을 만족시키는 범위에서 최소로 한다.\\n  편경사가 변하는 곳에서는 배수흐름을 고려한 등고선을 작성하여 신속하게 교면수를 유도할 \\n수 있도록 교면배수시설을 설치하여야 한다.\\n  바닥판 배수시설의 집수구는 수리학적으로 효과적이고 청소를 위한 접근이 가능해야 한다.\\n(4) 바닥판 배수시설로부터의 유출\\n  바닥판 배수시설은 바닥판이나 노면의 지표수가 교량 상부구조부재와 하부구조로부터 원활히 \\n제거 될 수 있도록 설계하고 위치해야 한다.\\n  발주자가 배수시설 및 배수관으로부터의 유출에 대한 통제에 특별한 요구조건을 제시하지 않\\n을 경우, 아래 사항들을 고려한다.\\n  • 인접한 상부구조요소의 최저부 아래로 최소 100 mm의 돌출부\\n  • 45°\\n경사의 원추형 분사가 구조요소에 접촉하지 않는 관로 유출구의 위치\\n  • 실제적으로 허용되는 경우 난간의 개구부 또는 자유 낙하이용\\n  • 45°\\n를 초과하지 않는 굴곡부 사용\\n  • 청소\\n  바닥판과 배수시설로부터의 유출은 환경 및 안전요구조건에 부합하도록 처리해야 한다.\\n(5) 구조물의 배수\\n  구조물에 물이 고일 수 있는 공간이 있는 경우는 가장 낮은 위치에서 배수시키도록 조치하여야 \\n한다. 바닥판과 포장면 특히 바닥판 이음부는 물이 고이지 않도록 설계해야 한다. 포장면이 일체\\n로 시공되지 않거나 현장거치 거푸집을 사용하는 교량바닥판의 경우 접합부에 고이는 물의 제거\\n를 고려해야 한다.', metadata={'source': './data/Road_bridge_design_watergate.pdf', 'file_path': './data/Road_bridge_design_watergate.pdf', 'page': 5, 'total_pages': 6, 'format': 'PDF 1.6', 'title': '<3132C2F7BFE4BEE0BABB2DC3D6C1BEC0CEBCE232303132303230382E687770>', 'author': '<BEC6C6AE>', 'subject': '', 'keywords': '', 'creator': 'PScript5.dll Version 5.2', 'producer': 'Acrobat Distiller 7.0.5 (Windows)', 'creationDate': \"D:20240627141630+09'00'\", 'modDate': \"D:20240627141712+09'00'\", 'trapped': ''}),\n",
       " Document(page_content='2.6 수문 및 수리\\n●2-13\\n  아래의 지침을 고려한다.\\n  • 교량의 설치 장소를 선정하는 단계에서는 교각의 수가 적거나 없는 설계안을 검토하고, 기본 \\n설계단계에서 상세히 논의한다.\\n  • 교각의 형상은 서로 일치되고 상부구조와 균형을 이루도록 한다.\\n  • 각 구성요소의 형상과 구조형식의 급격한 변화는 배제한다. 서로 다른 구조형식의 연결이 \\n불가피한 경우에는 외관상 자연스럽게 연결되도록 한다.\\n  • 바닥판배수 홈통과 같은 세부 설계에 주의하는 것을 간과하지 않도록 한다.\\n  • 기능성 또는 경제적 관점에서 하로트러스교와 같은 교량 형식이 불가피한 경우는 개방적이고 \\n혼잡하지 않은 외관을 제공하는 구조계를 선정한다.\\n  • 교량을 교통 표지판, 조명등 또는 현수막을 지지하는 구조로 사용하는 것은 가능한 한 배제\\n한다.\\n  • 지점 이외에 설치된 횡방향 복부판 보강재는 측면에서 보이지 않도록 한다.\\n2.6 수문 및 수리\\n2.6.1 일반사항\\n  하천을 횡단하는 교량 부지에 대한 수리 수문학적인 검토와 평가는 기본계획개발의 일부로서 \\n완수되어야 한다. 이러한 검토의 자세한 사항들은 구조물의 중요성 및 연관 위험성과 동등하게 \\n취급한다.\\n  시공자의 사용 또는 시공 중 교통소통을 위한 임시 구조물은 범람원 자연자원에 미치는 영향의 \\n최소화는 물론 인접 시설물의 소유자 및 대중교통의 안전을 고려하여 설계해야 한다. 발주자는 \\n임시 구조물의 예상사용기간과 이에 의한 홍수 위험을 고려하여 설계요구조건의 변경을 허가할 \\n수 있다. 임시 구조물에 대한 계약서에는 시공자가 제기한 책임소재와 위험요인들이 개괄적으로 \\n기술되어야 한다.\\n  교량대안설계에 대한 평가는 하천의 안정, 역류, 흐름의 분배, 유속, 세굴가능성, 홍수위험, \\n조석거동(해당되는 경우)을 고려해야 하며 하천정비 기본계획 및 하천설계기준(국토해양부)의 설\\n정기준치와의 부합성을 고려해야 한다.', metadata={'source': './data/Road_bridge_design_watergate.pdf', 'file_path': './data/Road_bridge_design_watergate.pdf', 'page': 0, 'total_pages': 6, 'format': 'PDF 1.6', 'title': '<3132C2F7BFE4BEE0BABB2DC3D6C1BEC0CEBCE232303132303230382E687770>', 'author': '<BEC6C6AE>', 'subject': '', 'keywords': '', 'creator': 'PScript5.dll Version 5.2', 'producer': 'Acrobat Distiller 7.0.5 (Windows)', 'creationDate': \"D:20240627141630+09'00'\", 'modDate': \"D:20240627141712+09'00'\", 'trapped': ''}),\n",
       " Document(page_content='2.6 수문 및 수리\\n●2-17\\n(5) 교량진입로\\n  교량은 범람원내에 있는 교량진입로와 함께 설계를 수행하여 전체 홍수흐름의 양상이 하나의 \\n연관된 일체시스템으로 개발, 분석되어야 한다. 범람원내의 진입로가 홍수시 흐름을 방해하는 경\\n우 범람원 경계내의 도로 구간은 홍수위험을 최소화하도록 설계되어야 한다. \\n  역류와 홍수흐름 방해로 타 유역까지 흐름의 영향이 미치는 경우 설계평가를 수행하여 타유역 \\n홍수위험에 관한 법적 요구조건을 만족해야 한다.\\n2.6.5 암거 위치, 길이와 수로면적\\n  2.6.3과 2.6.4의 규정과 함께 아래의 조건을 고려한다.\\n  • 어류와 야생동물의 통로\\n  • 큰 출구부 유속과 흐름의 집중이 암거출구부, 하류수로 및 인접 시설물에 미치는 영향\\n  • 암거입구부에 작용하는 부력효과\\n  • 교통안전\\n  • 하류통제와 폭우고조로 야기되는 하류 고수위의 영향\\n2.6.6 도로배수\\n(1) 일반사항\\n  통과차량의 안전을 최대화하고 교량의 파손을 최소화하기 위하여 교량바닥판과 진입로는 통행\\n로로부터의 노면수를 효과적이고 안전하게 배수할 수 있도록 설계해야 한다. 차도, 자전거 이용\\n도, 보도를 포함한 바닥판의 횡단배수는 충분히 자연배수가 되도록 횡단경사 또는 편경사를 제공\\n하여야 한다. 각 방향 3차선 이상의 광폭교량은 바닥판배수의 특별설계 또는 특별한 거친 노면처\\n리로 수막현상의 발생가능성을 감소시켜야 할 필요가 있는 경우도 있다. 측구로 배수되는 물은 \\n교량 위로 흘러들지 않도록 차단해야 한다. 교량 양단에서의 배수는 모든 유출량을 충분히 감당\\n할 수 있는 용량이 되어야 한다. \\n  교량 아래의 수로로 배출할 수 없는 특수한 환경 민감조건의 경우, 교량 하부에 부착한 종방향 \\n배수로를 사용하여 교량 단부의 지상에 위치한 적절한 시설로 배수하거나 불가피한 경우 환경을 \\n저감시킬 수 있는 별도의 방안을 수립하여야 한다.', metadata={'source': './data/Road_bridge_design_watergate.pdf', 'file_path': './data/Road_bridge_design_watergate.pdf', 'page': 4, 'total_pages': 6, 'format': 'PDF 1.6', 'title': '<3132C2F7BFE4BEE0BABB2DC3D6C1BEC0CEBCE232303132303230382E687770>', 'author': '<BEC6C6AE>', 'subject': '', 'keywords': '', 'creator': 'PScript5.dll Version 5.2', 'producer': 'Acrobat Distiller 7.0.5 (Windows)', 'creationDate': \"D:20240627141630+09'00'\", 'modDate': \"D:20240627141712+09'00'\", 'trapped': ''})]"
      ]
     },
     "execution_count": 13,
     "metadata": {},
     "output_type": "execute_result"
    }
   ],
   "source": [
    "# 검색기 테스트\n",
    "retriever.invoke(\"암거 위치, 길이와 수로면적을 설계할시 고려해야할 사항은?\")"
   ]
  },
  {
   "cell_type": "code",
   "execution_count": 14,
   "metadata": {},
   "outputs": [],
   "source": [
    "# 단계 6: 프롬프트 생성(Create Prompt)\n",
    "prompt = ChatPromptTemplate.from_template(\n",
    "    '''You are a helpful assistant, conversing with a user about the subjects contained in a set of documents.\n",
    "Use the information from the DOCUMENTS section to provide accurate answers. If unsure or if the answer\n",
    "isn't found in the DOCUMENTS section, simply state that you don't know the answer. Please answer me in korean. \n",
    "#Question:\n",
    "{question}\n",
    "#Context:\n",
    "{context}\n",
    "'''\n",
    ")"
   ]
  },
  {
   "cell_type": "code",
   "execution_count": 15,
   "metadata": {},
   "outputs": [],
   "source": [
    "# 단계 7: LLM 생성\n",
    "llm = ChatOllama(model='EEVE:latest')\n",
    "# llm = ChatOpenAI(model_name='gpt-4o')\n",
    "# llm = ChatOllama(model='llama3_kor:latest')"
   ]
  },
  {
   "cell_type": "code",
   "execution_count": 16,
   "metadata": {},
   "outputs": [],
   "source": [
    "# 단계 8: 체인 생성\n",
    "chain = (\n",
    "    {\"context\":retriever, \"question\":RunnablePassthrough()}\n",
    "    | prompt\n",
    "    | llm\n",
    "    | StrOutputParser()\n",
    ")"
   ]
  },
  {
   "cell_type": "code",
   "execution_count": 17,
   "metadata": {},
   "outputs": [
    {
     "name": "stdout",
     "output_type": "stream",
     "text": [
      "다음은 PDF 파일 텍스트 내용입니다:\n",
      "\n",
      "2.6 수문 및 수리\n",
      "●2-13\n",
      "아래의 지침들을 고려하세요:\n",
      "교량의 설치 장소를 선정하는 단계에서, 교각이 적거나 없는 설계안을 검토하고 기본 설계 단계에서 자세히 논의합니다.\n",
      "교각의 형상이 서로 일치하고 상부 구조와 균형을 이루도록 합니다.\n",
      "구성요소의 형상과 구조형식의 급격한 변화를 피합니다. 다른 구조형식 사이의 연결이 불가피한 경우 외관상 자연스럽게 보이게 합니다.\n",
      "바닥판 배수 홈통과 같은 상세 설계에 주의를 기울입니다.\n",
      "기능성 또는 경제적 관점에서 하로트러스교와 같은 교량 유형이 불가피한 경우에는 개방적이고 혼잡하지 않은 외관을 제공하는 구조체를 선택합니다.\n",
      "교량을 교통 표지판, 조명등 또는 현수막을 지지하는 구조물로 사용하는 것을 가능한 한 피합니다.\n",
      "지점 이외에 설치된 횡방향 복부판 보강재는 측면에서 보이지 않도록 합니다.\n",
      "2.6 수문 및 수리\n",
      "2.6.1 일반사항\n",
      "하천을 횡단하는 교량 부지에 대한 수리수문학적인 검토와 평가는 기본계획 개발의 일부로 이루어져야 합니다. 이러한 검토의 세부 사항들은 구조물의 중요성 및 연관 위험성과 동등하게 취급합니다.\n",
      "시공자 또는 공사 중 교통 소통용 임시 구조물은 범람원 자연 자원에 미치는 영향을 최소화하고 인접 시설 소유주 및 대중교통 안전성을 확보하기 위해 설계됩니다.\n",
      "2.6.5 암거 위치, 길이 및 수로 면적\n",
      "2.6.3과 2.6.4의 규정을 포함하여 아래 조건들을 고려하세요:\n",
      "- 어류와 야생동물의 통로\n",
      "- 큰 출구부 유속 및 흐름 집중이 암거출구부, 하류수로 및 인접 시설물에 미치는 영향\n",
      "- 암거입구부에 작용하는 부력 효과\n",
      "- 교통 안전\n",
      "- 하류통제와 폭우고조에 따른 하류 고수위의 영향\n",
      "2.6.6 도로 배수\n",
      "(1) 일반사항\n",
      "통행 차량의 안전을 극대화하고 교량의 손상을 최소화하기 위해 교량 바닥판과 진입로는 노면수를 효과적으로 안전하게 배수할 수 있도록 설계되어야 합니다. 차도, 자전거 이용도로 및 보도를 포함한 바닥판의 횡단배수는 충분히 자연배수가 가능하도록 횡단경사 또는 편경사를 제공해야 합니다. 각 방향에 3차선 이상의 광폭 교량은 바닥판 배수의 특별한 설계나 거친 노면 처리를 통해 수막현상의 발생 가능성을 줄일 필요가 있는 경우도 있습니다.\n",
      "교량 아래의 수로로 배출할 수 없는 특수 환경 민감 조건에서, 교량 하부에 부착된 종방향 배수로를 사용하여 적절한 시설에 도달하거나 불가피한 경우 환경을 저하시킬 수 있는 별도의 방안을 마련하세요.\n"
     ]
    }
   ],
   "source": [
    "# 질문 실행\n",
    "\n",
    "question = \"암거 위치, 길이와 수로면적을 설계할시 고려해야할 사항은?\"\n",
    "\n",
    "response = chain.invoke(question)\n",
    "print(response)"
   ]
  },
  {
   "cell_type": "code",
   "execution_count": 9,
   "metadata": {},
   "outputs": [
    {
     "name": "stdout",
     "output_type": "stream",
     "text": [
      "\"1 더하기 1은 무엇인가?\"라는 질문에 대한 답변입니다.\n",
      "\n",
      "1더하기1(1+1)의 결과는 2입니다. 간단히 말해서, 한 개체에 하나를 더하면 합계나 총수가 됩니다. 이 경우, 두 개의 단위('1'과 '1')를 더한 결과물이 2가 되는 것이죠. 이 개념은 기본적인 산수에서 중요한 역할을 하며 일상 생활의 다양한 측면에 적용됩니다. 예를 들어, 물건이나 사람 수 세기, 계량 문제 해결, 간단한 계산 등입니다.\n",
      "\n",
      "이것을 기억하기 위해서, 다음과 같은 공식을 사용할 수 있습니다:\n",
      "\n",
      "1+1 = 2\n",
      "\n",
      "수학에서는 이를 '덧셈'이라고 하는데, 이는 숫자들을 결합하거나 합쳐서 새로운 총수를 만드는 것을 의미합니다. 이 개념은 더 복잡한 수학 과정의 기초로 사용되며, 다양한 유형의 산술 연산에 적용됩니다.content='\"1 더하기 1은 무엇인가?\"라는 질문에 대한 답변입니다.\\n\\n1더하기1(1+1)의 결과는 2입니다. 간단히 말해서, 한 개체에 하나를 더하면 합계나 총수가 됩니다. 이 경우, 두 개의 단위(\\'1\\'과 \\'1\\')를 더한 결과물이 2가 되는 것이죠. 이 개념은 기본적인 산수에서 중요한 역할을 하며 일상 생활의 다양한 측면에 적용됩니다. 예를 들어, 물건이나 사람 수 세기, 계량 문제 해결, 간단한 계산 등입니다.\\n\\n이것을 기억하기 위해서, 다음과 같은 공식을 사용할 수 있습니다:\\n\\n1+1 = 2\\n\\n수학에서는 이를 \\'덧셈\\'이라고 하는데, 이는 숫자들을 결합하거나 합쳐서 새로운 총수를 만드는 것을 의미합니다. 이 개념은 더 복잡한 수학 과정의 기초로 사용되며, 다양한 유형의 산술 연산에 적용됩니다.' response_metadata={'model': 'EEVE:latest', 'created_at': '2024-06-27T15:14:49.150763199Z', 'message': {'role': 'assistant', 'content': ''}, 'done': True, 'total_duration': 3378069120, 'load_duration': 1101664935, 'prompt_eval_count': 57, 'prompt_eval_duration': 61629000, 'eval_count': 187, 'eval_duration': 2084316000} id='run-8f178447-8ec8-423e-9573-30bf2801309f-0'\n"
     ]
    }
   ],
   "source": [
    "print(llm.invoke(\"1더하고 1이 뭐야?\"))"
   ]
  }
 ],
 "metadata": {
  "kernelspec": {
   "display_name": "RAG_langchain",
   "language": "python",
   "name": "python3"
  },
  "language_info": {
   "codemirror_mode": {
    "name": "ipython",
    "version": 3
   },
   "file_extension": ".py",
   "mimetype": "text/x-python",
   "name": "python",
   "nbconvert_exporter": "python",
   "pygments_lexer": "ipython3",
   "version": "3.10.14"
  }
 },
 "nbformat": 4,
 "nbformat_minor": 2
}
