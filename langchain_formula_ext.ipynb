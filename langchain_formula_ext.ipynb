{
 "cells": [
  {
   "cell_type": "code",
   "execution_count": 1,
   "metadata": {},
   "outputs": [
    {
     "data": {
      "text/plain": [
       "True"
      ]
     },
     "execution_count": 1,
     "metadata": {},
     "output_type": "execute_result"
    }
   ],
   "source": [
    "from dotenv import load_dotenv\n",
    "\n",
    "load_dotenv()"
   ]
  },
  {
   "cell_type": "code",
   "execution_count": 2,
   "metadata": {},
   "outputs": [
    {
     "name": "stdout",
     "output_type": "stream",
     "text": [
      "[API KEY]\n",
      "sk-proj-2ALiWBzcJl4s9ri6EUJ6T3BlbkFJxbUDIanlzbIf6JMPE7o2\n",
      "true\n"
     ]
    }
   ],
   "source": [
    "import os\n",
    "\n",
    "print(f\"[API KEY]\\n{os.environ['OPENAI_API_KEY']}\")\n",
    "print(os.environ[\"LANGCHAIN_TRACING_V2\"])"
   ]
  },
  {
   "cell_type": "code",
   "execution_count": 3,
   "metadata": {},
   "outputs": [
    {
     "name": "stderr",
     "output_type": "stream",
     "text": [
      "/home/choi/anaconda3/envs/RAG_langchain/lib/python3.10/site-packages/tqdm/auto.py:21: TqdmWarning: IProgress not found. Please update jupyter and ipywidgets. See https://ipywidgets.readthedocs.io/en/stable/user_install.html\n",
      "  from .autonotebook import tqdm as notebook_tqdm\n"
     ]
    }
   ],
   "source": [
    "import torch\n",
    "\n",
    "from langchain_text_splitters import RecursiveCharacterTextSplitter\n",
    "from langchain_community.document_loaders import PyMuPDFLoader, TextLoader\n",
    "from langchain_community.vectorstores import FAISS\n",
    "from langchain_community.embeddings import HuggingFaceEmbeddings\n",
    "from langchain_core.output_parsers import StrOutputParser\n",
    "from langchain_core.runnables import RunnablePassthrough\n",
    "from langchain_core.prompts.chat import PromptTemplate, ChatPromptTemplate\n",
    "\n",
    "from langchain_openai import ChatOpenAI, OpenAIEmbeddings\n",
    "\n",
    "from transformers import AutoModel, AutoTokenizer\n",
    "\n",
    "from langchain_community.chat_models import ChatOllama\n",
    "from langchain_core.callbacks.streaming_stdout import StreamingStdOutCallbackHandler\n",
    "from langchain_core.callbacks.manager import CallbackManager\n",
    "\n",
    "\n",
    "# EEVE 모델 사용\n",
    "llm = ChatOllama(\n",
    "    temperature=0.7,\n",
    "    top_k=40,\n",
    "    top_p=0.9,\n",
    "    model=\"EEVE:latest\",\n",
    "    callback_manager=CallbackManager([StreamingStdOutCallbackHandler()]),\n",
    ")"
   ]
  },
  {
   "cell_type": "code",
   "execution_count": 4,
   "metadata": {},
   "outputs": [
    {
     "name": "stdout",
     "output_type": "stream",
     "text": [
      "/home/choi/Git/RAG_con_doc/langchain\n"
     ]
    }
   ],
   "source": [
    "import os\n",
    "current_directory = os.getcwd()\n",
    "print(current_directory)"
   ]
  },
  {
   "cell_type": "code",
   "execution_count": 5,
   "metadata": {},
   "outputs": [
    {
     "name": "stdout",
     "output_type": "stream",
     "text": [
      "문서의 페이지수:1\n"
     ]
    }
   ],
   "source": [
    "# 1단계 : 문서 로드\n",
    "\n",
    "loader = TextLoader(\"./data/1Way_slab_design.txt\")\n",
    "docs = loader.load()\n",
    "print(f\"문서의 페이지수:{len(docs)}\")\n",
    "\n",
    "\n"
   ]
  },
  {
   "cell_type": "code",
   "execution_count": 6,
   "metadata": {},
   "outputs": [
    {
     "name": "stdout",
     "output_type": "stream",
     "text": [
      "분할된 청크의 수 : 7\n"
     ]
    }
   ],
   "source": [
    "# 2단계 : 문서 분할\n",
    "text_splitter = RecursiveCharacterTextSplitter(chunk_size=1000, chunk_overlap=50)\n",
    "split_documents = text_splitter.split_documents(docs)\n",
    "print(f\"분할된 청크의 수 : {len(split_documents)}\")"
   ]
  },
  {
   "cell_type": "code",
   "execution_count": 11,
   "metadata": {},
   "outputs": [],
   "source": [
    "# 3단계 : 임베딩 (결정)\n",
    "# ko-sroberta-multitask 임베딩 사용\n",
    "import torch\n",
    "from langchain_community.embeddings import HuggingFaceEmbeddings\n",
    "\n",
    "embeddings = HuggingFaceEmbeddings(model_name = 'jhgan/ko-sroberta-multitask')\n"
   ]
  },
  {
   "cell_type": "code",
   "execution_count": 12,
   "metadata": {},
   "outputs": [],
   "source": [
    "# 단계 4: DB 생성 및 저장\n",
    "vectorstore = FAISS.from_documents(documents=split_documents, embedding=embeddings)"
   ]
  },
  {
   "cell_type": "code",
   "execution_count": 13,
   "metadata": {},
   "outputs": [],
   "source": [
    "# 단계 5: 검색기(Retriever) 생성\n",
    "retriever = vectorstore.as_retriever()"
   ]
  },
  {
   "cell_type": "code",
   "execution_count": 20,
   "metadata": {},
   "outputs": [
    {
     "data": {
      "text/plain": [
       "[Document(page_content='$$\\nV_{c}=\\\\frac{1}{6} \\\\sqrt{f_{c k}} b d\\n$$\\n\\n\\\\begin{enumerate}\\n  \\\\setcounter{enumi}{2}\\n  \\\\item 일방향 슬래브에서 처짐을 계산하지 않는 경우의 최소두께 계산은 다음과 같습니다. 사용자가 입력한 슬래브 두께가 다음 최소 두께보다 작을 경우는 유효강성에 의한 첨짐량을 계산합니다.\\n\\\\end{enumerate}\\n\\n\\\\begin{center}\\n\\\\begin{tabular}{|c|c|}\\n\\\\hline\\n지지조건 & 최소두께 \\\\\\\\\\n\\\\hline\\n양단 단순지지조건 & $l / 20$ \\\\\\\\\\n\\\\hline\\n양단 연속지지조건 & $l / 28$ \\\\\\\\\\n\\\\hline\\n일단 연속 + 타단 힌지조건 & $l / 24$ \\\\\\\\\\n\\\\hline\\n캔틸레버 & $l / 10$ \\\\\\\\\\n\\\\hline\\n\\\\end{tabular}\\n\\\\end{center}\\n\\n이 표의 값은 보통콘크리트 $\\\\left(\\\\omega_{c}=2,300 \\\\mathrm{~kg} / \\\\mathrm{m}^{3}\\\\right)$ 와 설계기준항복강도 $400 \\\\mathrm{~N} / \\\\mathrm{mm}^{2}$ 철근을\\n\\n사용한 부재에 대한 값이며 다른 조건에 대해서는 그 값을 다음과 같이 수정하여야 합니다.\\n\\n(1) $1,500 \\\\sim 2,000 \\\\mathrm{~kg} / \\\\mathrm{m}^{3}$ 범위의 단위질량을 갖는 구조용 경량콘크리트에 대해서는 계산된 $h$ 값 에 $\\\\left(1.65-0.00031 \\\\omega_{c}\\\\right)$ 를 곱해야 하지만 1.09 보다 작지 않아야 합니다.\\n\\n(2) $F_{y}$ 가 $400 \\\\mathrm{~N} / \\\\mathrm{mm}^{2}$ 이외인 경우는 계산된 $h$ 값에 $\\\\left(0.43+f_{y} / 700\\\\right)$ 를 곱하여야 합니다.\\n\\n\\\\begin{enumerate}\\n  \\\\setcounter{enumi}{3}\\n  \\\\item 슬래브의 최소철근비는 수축,온도철근의 규정을 적용합니다.\\n\\\\end{enumerate}', metadata={'source': './data/1Way_slab_design.txt'}),\n",
       " Document(page_content='철근의 항복강도 $400 \\\\mathrm{~N} / \\\\mathrm{mm}^{2}$ 이하 : 0.0020\\n\\n철근의 항복강도 $400 \\\\mathrm{~N} / \\\\mathrm{mm}^{2}$ 초과 : $0.0020 \\\\times \\\\frac{400}{f_{y}}$\\n\\n\\\\begin{enumerate}\\n  \\\\setcounter{enumi}{4}\\n  \\\\item 인장연단에 가장 가까이에 배치되는 철근의 중심간격 $s$ 는 다음 식 중에서 작은 값 이하로 합니다.\\n\\\\end{enumerate}\\n\\n\\\\begin{enumerate}\\n  \\\\item 건조환경\\n\\\\end{enumerate}\\n\\n$s=375\\\\left(\\\\frac{280}{f_{s}}\\\\right)-2.5 c_{c}$\\n\\n$s=300\\\\left(\\\\frac{280}{f_{s}}\\\\right)$\\n\\n\\\\begin{enumerate}\\n  \\\\setcounter{enumi}{1}\\n  \\\\item 그 외의 환경\\n\\\\end{enumerate}\\n\\n$s=375\\\\left(\\\\frac{210}{f_{s}}\\\\right)-2.5 c_{c}$\\n\\n$s=300\\\\left(\\\\frac{210}{f_{s}}\\\\right)$\\n\\n여기서 $f_{s}$ 는 $f_{y}$ 의 $2 / 3$ 를 취합니다.\\n\\n\\\\begin{enumerate}\\n  \\\\setcounter{enumi}{5}\\n  \\\\item 유한요소법을 사용할 경우, 처짐계산에 사용되는 유효강성 $I_{e}$ 는 다음과 같이 구합니다.\\n\\\\end{enumerate}\\n\\n$$\\nI_{e}=\\\\left(\\\\frac{M_{c r}}{M_{a}}\\\\right)^{3} I_{g}+\\\\left[1-\\\\left(\\\\frac{M_{c r}}{M_{a}}\\\\right)^{3}\\\\right] I_{c r} \\\\leq I_{g}\\n$$\\n\\n여기서\\n\\n$$\\nM_{c r}=\\\\frac{f_{r} I_{g}}{y_{t}}\\n$$\\n\\n$$\\nf_{r}=0.63 \\\\sqrt{f_{c k}}\\n$$', metadata={'source': './data/1Way_slab_design.txt'}),\n",
       " Document(page_content='\\\\section*{사용상의 주의사항}\\n\\\\begin{enumerate}\\n  \\\\item 슬래브에서 위험단면은 다음의 위치가 됩니다.\\n\\\\end{enumerate}\\n\\n부모멘트에 대해서는 최대모멘트가 발생하는 지지면\\n\\n\\\\begin{itemize}\\n  \\\\item 정모멘트에 대해서는 최대모멘트가 발생하는 슬래브 중간부\\n\\\\end{itemize}\\n\\n\\\\begin{enumerate}\\n  \\\\setcounter{enumi}{1}\\n  \\\\item 비틀림저항을 거의 무시할 수 있는 단순지지된 슬래브 단부 지지부는 최대 정모멘트의 $1 / 3$ 에 해당하 는 값을 최소 부모멘트로 사용하여야 합니다. 따라서, 단순지지된 단부에서의 철근배근은 최소 부모멘 트에 의한 철근비와 건조수축 및 온도응력에 의한 최소철근비 중 최대값으로 설계하여야 합니다.\\n\\n  \\\\item 1 방향구조에서 장기처짐 효과를 고려하여 계산한 처짐량은 다음표의 최대 허용처짐값보다 작아야 합 니다.\\n\\n\\\\end{enumerate}', metadata={'source': './data/1Way_slab_design.txt'}),\n",
       " Document(page_content='\\\\item 지지 또는 부착된 비구조요소의 피해를 방지할 수 있는 적절한 조치가 취해질 경우에 이 제한 을 초과할 수 있다.\\n\\n  \\\\item 장기처짐은 비구조 요소의 부착 전에 생긴 처짐량을 감소시킬 수 있다. 이 감소량은 해당 부재 와 유사한 시간-처짐 특성에 관한 적절한 기술자료를 기초록 결정하여야 한다.', metadata={'source': './data/1Way_slab_design.txt'})]"
      ]
     },
     "execution_count": 20,
     "metadata": {},
     "output_type": "execute_result"
    }
   ],
   "source": [
    "# 검색기 테스트\n",
    "retriever.invoke(\"슬래브의 콘크리트 전단강도는 어떻게 계산돼?\")"
   ]
  },
  {
   "cell_type": "code",
   "execution_count": 15,
   "metadata": {},
   "outputs": [],
   "source": [
    "# 단계 6: 프롬프트 생성(Create Prompt)\n",
    "prompt = ChatPromptTemplate.from_template(\n",
    "    '''You are a helpful assistant, conversing with a user about the subjects contained in a set of documents.\n",
    "Use the information from the DOCUMENTS section to provide accurate answers. If unsure or if the answer\n",
    "isn't found in the DOCUMENTS section, simply state that you don't know the answer. Please answer me in korean. \n",
    "#Question:\n",
    "{question}\n",
    "#Context:\n",
    "{context}\n",
    "'''\n",
    ")"
   ]
  },
  {
   "cell_type": "code",
   "execution_count": 16,
   "metadata": {},
   "outputs": [],
   "source": [
    "\n",
    "# 단계 7: LLM 생성\n",
    "# llm = ChatOllama(model='EEVE:latest')\n",
    "# llm = ChatOpenAI(model_name='gpt-4o')\n",
    "# llm = ChatOllama(model='llama3_kor:latest')"
   ]
  },
  {
   "cell_type": "code",
   "execution_count": 17,
   "metadata": {},
   "outputs": [],
   "source": [
    "# 단계 8: 체인 생성\n",
    "chain = (\n",
    "    {\"context\":retriever, \"question\":RunnablePassthrough()}\n",
    "    | prompt\n",
    "    | llm\n",
    "    | StrOutputParser()\n",
    ")"
   ]
  },
  {
   "cell_type": "code",
   "execution_count": 24,
   "metadata": {},
   "outputs": [
    {
     "name": "stdout",
     "output_type": "stream",
     "text": [
      "여기 1방향 슬래브 설계를 위한 지침에 대한 번역본이 있습니다:\n",
      "\n",
      "슬래브 설계의 시작점, 전단강도 및 최소두께 계산:\n",
      "\n",
      "1. 연속 지지조건\n",
      "   전단강도는 다음과 같이 계산합니다:\n",
      "   $$V_{c}=\\frac{1}{6}\\sqrt{f_{c}k}bd$$\n",
      "   여기서 $f_{ck}$는 보통콘크리트 단위 면적당 계수하중, $b$는 슬래브 폭, $d$는 슬래브 두께입니다.\n",
      "2. 처짐을 계산하지 않는 최소두께:\n",
      "   사용자가 입력한 슬래브 두께가 다음 값보다 작으면 유효강성에 의한 첨짐량을 고려합니다.\n",
      "   | 지지조건 | 최소두께 |\n",
      "   |-----------|----------|\n",
      "   | 양단 단순지지조건 | $l / 20$ |\n",
      "   | 양단 연속지지조건 | $l / 28$ |\n",
      "   | 일단은 연속 + 타단은 힌지 | $l / 24$ |\n",
      "   | 캔틸레버 | $l / 10$ |\n",
      "   여기서 $l$은 경간입니다.\n",
      "3. 수정사항:\n",
      "   - 구조용 경량콘크리트의 경우, 계산된 $h$ 값에 $(1.65-0.00031 \\omega_{c})$를 곱하고 1.09보다 작지 않도록 합니다.\n",
      "   - 설계기준 항복강도 $400 N/mm^2$ 이외의 철근은 계산된 $h$ 값에 $(0.43+\\frac{f_y}{700})$를 곱합니다.\n",
      "4. 최소철근비:\n",
      "   - $f_{y} \\leq 400 N/mm^2$ 인 경우 0.0020\n",
      "   - $f_{y}>400 N/mm^2$ 일 때는 $\\frac{0.0020}{f_y}$입니다.\n",
      "5. 철근 중심간격:\n",
      "   - 건조환경에서의 최소값은 $375\\left(\\frac{280}{f_{s}}\\right)-2.5 c_{c}$와 $300\\left(\\frac{280}{f_{s}}\\right)$이며, $f_s$는 $f_y$의 2/3입니다.\n",
      "   - 기타 환경에서의 최소값은 $375\\left(\\frac{210}{f_{s}}\\right)-2.5 c_{c}$와 $300\\left(\\frac{210}{f_{s}}\\right)$이며, $f_s$는 $f_y$의 2/3입니다.\n",
      "6. 유한요소법을 사용할 때의 유효강성:\n",
      "   - 처짐계산에 사용되는 유효강성은 다음과 같이 계산합니다:\n",
      "    $$I_{e}=\\left(\\frac{M_{cr}}{M_{a}}\\right)^{3} I_g + \\left[1-\\left(\\frac{M_{cr}}{M_{a}}\\right)^{3}\\right] I_{cr} \\leq I_g$$\n",
      "    여기서 $M_{cr}$은 다음과 같습니다:\n",
      "    $$M_{cr}=\\frac{f_r I_g}{y_t}$$\n",
      "    그리고 $f_r=0.63 \\sqrt{f_{ck}}$\\n\n"
     ]
    }
   ],
   "source": [
    "# 질문 실행\n",
    "\n",
    "question = \"f_{c k} 가 20 b가 5 d 가 10일때 V_{c}는 몇이야?\"\n",
    "\n",
    "response = chain.invoke(question)\n",
    "print(response)"
   ]
  }
 ],
 "metadata": {
  "kernelspec": {
   "display_name": "RAG_langchain",
   "language": "python",
   "name": "python3"
  },
  "language_info": {
   "codemirror_mode": {
    "name": "ipython",
    "version": 3
   },
   "file_extension": ".py",
   "mimetype": "text/x-python",
   "name": "python",
   "nbconvert_exporter": "python",
   "pygments_lexer": "ipython3",
   "version": "3.1.-1"
  }
 },
 "nbformat": 4,
 "nbformat_minor": 2
}
